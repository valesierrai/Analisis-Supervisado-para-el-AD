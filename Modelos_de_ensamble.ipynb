{
  "cells": [
    {
      "cell_type": "markdown",
      "metadata": {
        "id": "view-in-github",
        "colab_type": "text"
      },
      "source": [
        "<a href=\"https://colab.research.google.com/github/valesierrai/Analisis-Supervisado-para-el-AD/blob/main/Modelos_de_ensamble.ipynb\" target=\"_parent\"><img src=\"https://colab.research.google.com/assets/colab-badge.svg\" alt=\"Open In Colab\"/></a>"
      ]
    },
    {
      "cell_type": "markdown",
      "source": [
        "# Modelos de ensamble"
      ],
      "metadata": {
        "id": "iObbhHBiWd0Q"
      }
    },
    {
      "cell_type": "markdown",
      "source": [
        "Ya se ha visto que los árboles de decisión son modelos que funcionan muy bien, en general mejor que los modelos lineales, y tienen varias ventajas como:\n",
        "- Son fácilmente interpretables.\n",
        "- Con ellos no es necesario hacer preprocesamientos complejos, porque son no paramétricos, es decir, no hacen supuestos sobre las distribuciones de los datos.\n",
        "- Gestionan de manera natural los datos nulos o faltantes, tampoco es necesario hacer eliminación o imputación previa de datos nulos.\n",
        "\n",
        "Sin embargo, los árboles de decisión tienen 2 problemas importantes:\n",
        "- Son muy inestables: pequeños cambios en los datos pueden llevar a cambios drásticos en el modelo.\n",
        "- Tienden a sobreajustarse muy fácilmente.\n",
        "\n",
        "Estos problemas pueden ser resueltos trabajando con muchos árboles simultáneamente. Estos modelos que trabajan con muchos árboles se conocen como modelos de ensamble.\n",
        "\n",
        "Vamos a empezar a conocerlos de los más simples a los más complejos."
      ],
      "metadata": {
        "id": "drug4IqlWhco"
      }
    },
    {
      "cell_type": "code",
      "execution_count": null,
      "metadata": {
        "id": "aEXTs5-OypvL",
        "colab": {
          "base_uri": "https://localhost:8080/"
        },
        "outputId": "6b529e81-ab22-4b15-f4b0-7c6bb4cb2a4b"
      },
      "outputs": [
        {
          "output_type": "stream",
          "name": "stdout",
          "text": [
            "Mounted at /content/drive\n"
          ]
        }
      ],
      "source": [
        "# Cargamos las librerías necesarias\n",
        "import numpy as np\n",
        "import pandas as pd\n",
        "import matplotlib.pyplot as plt\n",
        "#Importamos Drive\n",
        "from google.colab import drive\n",
        "drive.mount('/content/drive')"
      ]
    },
    {
      "cell_type": "code",
      "execution_count": null,
      "metadata": {
        "colab": {
          "base_uri": "https://localhost:8080/",
          "height": 238
        },
        "id": "CYQBCiP3Nh1p",
        "outputId": "648afb3d-5aaf-45c4-dc05-b64365b5f0cd"
      },
      "outputs": [
        {
          "output_type": "execute_result",
          "data": {
            "text/plain": [
              "                            mpg  cylinders  displacement  horsepower  weight  \\\n",
              "car name                                                                       \n",
              "chevrolet chevelle malibu  18.0          8         307.0       130.0  3504.0   \n",
              "buick skylark 320          15.0          8         350.0       165.0  3693.0   \n",
              "plymouth satellite         18.0          8         318.0       150.0  3436.0   \n",
              "amc rebel sst              16.0          8         304.0       150.0  3433.0   \n",
              "ford torino                17.0          8         302.0       140.0  3449.0   \n",
              "\n",
              "                           acceleration  model year  origin  \n",
              "car name                                                     \n",
              "chevrolet chevelle malibu          12.0          70       1  \n",
              "buick skylark 320                  11.5          70       1  \n",
              "plymouth satellite                 11.0          70       1  \n",
              "amc rebel sst                      12.0          70       1  \n",
              "ford torino                        10.5          70       1  "
            ],
            "text/html": [
              "\n",
              "  <div id=\"df-64853cc6-59e6-4b83-a85e-4c72b597d438\" class=\"colab-df-container\">\n",
              "    <div>\n",
              "<style scoped>\n",
              "    .dataframe tbody tr th:only-of-type {\n",
              "        vertical-align: middle;\n",
              "    }\n",
              "\n",
              "    .dataframe tbody tr th {\n",
              "        vertical-align: top;\n",
              "    }\n",
              "\n",
              "    .dataframe thead th {\n",
              "        text-align: right;\n",
              "    }\n",
              "</style>\n",
              "<table border=\"1\" class=\"dataframe\">\n",
              "  <thead>\n",
              "    <tr style=\"text-align: right;\">\n",
              "      <th></th>\n",
              "      <th>mpg</th>\n",
              "      <th>cylinders</th>\n",
              "      <th>displacement</th>\n",
              "      <th>horsepower</th>\n",
              "      <th>weight</th>\n",
              "      <th>acceleration</th>\n",
              "      <th>model year</th>\n",
              "      <th>origin</th>\n",
              "    </tr>\n",
              "    <tr>\n",
              "      <th>car name</th>\n",
              "      <th></th>\n",
              "      <th></th>\n",
              "      <th></th>\n",
              "      <th></th>\n",
              "      <th></th>\n",
              "      <th></th>\n",
              "      <th></th>\n",
              "      <th></th>\n",
              "    </tr>\n",
              "  </thead>\n",
              "  <tbody>\n",
              "    <tr>\n",
              "      <th>chevrolet chevelle malibu</th>\n",
              "      <td>18.0</td>\n",
              "      <td>8</td>\n",
              "      <td>307.0</td>\n",
              "      <td>130.0</td>\n",
              "      <td>3504.0</td>\n",
              "      <td>12.0</td>\n",
              "      <td>70</td>\n",
              "      <td>1</td>\n",
              "    </tr>\n",
              "    <tr>\n",
              "      <th>buick skylark 320</th>\n",
              "      <td>15.0</td>\n",
              "      <td>8</td>\n",
              "      <td>350.0</td>\n",
              "      <td>165.0</td>\n",
              "      <td>3693.0</td>\n",
              "      <td>11.5</td>\n",
              "      <td>70</td>\n",
              "      <td>1</td>\n",
              "    </tr>\n",
              "    <tr>\n",
              "      <th>plymouth satellite</th>\n",
              "      <td>18.0</td>\n",
              "      <td>8</td>\n",
              "      <td>318.0</td>\n",
              "      <td>150.0</td>\n",
              "      <td>3436.0</td>\n",
              "      <td>11.0</td>\n",
              "      <td>70</td>\n",
              "      <td>1</td>\n",
              "    </tr>\n",
              "    <tr>\n",
              "      <th>amc rebel sst</th>\n",
              "      <td>16.0</td>\n",
              "      <td>8</td>\n",
              "      <td>304.0</td>\n",
              "      <td>150.0</td>\n",
              "      <td>3433.0</td>\n",
              "      <td>12.0</td>\n",
              "      <td>70</td>\n",
              "      <td>1</td>\n",
              "    </tr>\n",
              "    <tr>\n",
              "      <th>ford torino</th>\n",
              "      <td>17.0</td>\n",
              "      <td>8</td>\n",
              "      <td>302.0</td>\n",
              "      <td>140.0</td>\n",
              "      <td>3449.0</td>\n",
              "      <td>10.5</td>\n",
              "      <td>70</td>\n",
              "      <td>1</td>\n",
              "    </tr>\n",
              "  </tbody>\n",
              "</table>\n",
              "</div>\n",
              "    <div class=\"colab-df-buttons\">\n",
              "\n",
              "  <div class=\"colab-df-container\">\n",
              "    <button class=\"colab-df-convert\" onclick=\"convertToInteractive('df-64853cc6-59e6-4b83-a85e-4c72b597d438')\"\n",
              "            title=\"Convert this dataframe to an interactive table.\"\n",
              "            style=\"display:none;\">\n",
              "\n",
              "  <svg xmlns=\"http://www.w3.org/2000/svg\" height=\"24px\" viewBox=\"0 -960 960 960\">\n",
              "    <path d=\"M120-120v-720h720v720H120Zm60-500h600v-160H180v160Zm220 220h160v-160H400v160Zm0 220h160v-160H400v160ZM180-400h160v-160H180v160Zm440 0h160v-160H620v160ZM180-180h160v-160H180v160Zm440 0h160v-160H620v160Z\"/>\n",
              "  </svg>\n",
              "    </button>\n",
              "\n",
              "  <style>\n",
              "    .colab-df-container {\n",
              "      display:flex;\n",
              "      gap: 12px;\n",
              "    }\n",
              "\n",
              "    .colab-df-convert {\n",
              "      background-color: #E8F0FE;\n",
              "      border: none;\n",
              "      border-radius: 50%;\n",
              "      cursor: pointer;\n",
              "      display: none;\n",
              "      fill: #1967D2;\n",
              "      height: 32px;\n",
              "      padding: 0 0 0 0;\n",
              "      width: 32px;\n",
              "    }\n",
              "\n",
              "    .colab-df-convert:hover {\n",
              "      background-color: #E2EBFA;\n",
              "      box-shadow: 0px 1px 2px rgba(60, 64, 67, 0.3), 0px 1px 3px 1px rgba(60, 64, 67, 0.15);\n",
              "      fill: #174EA6;\n",
              "    }\n",
              "\n",
              "    .colab-df-buttons div {\n",
              "      margin-bottom: 4px;\n",
              "    }\n",
              "\n",
              "    [theme=dark] .colab-df-convert {\n",
              "      background-color: #3B4455;\n",
              "      fill: #D2E3FC;\n",
              "    }\n",
              "\n",
              "    [theme=dark] .colab-df-convert:hover {\n",
              "      background-color: #434B5C;\n",
              "      box-shadow: 0px 1px 3px 1px rgba(0, 0, 0, 0.15);\n",
              "      filter: drop-shadow(0px 1px 2px rgba(0, 0, 0, 0.3));\n",
              "      fill: #FFFFFF;\n",
              "    }\n",
              "  </style>\n",
              "\n",
              "    <script>\n",
              "      const buttonEl =\n",
              "        document.querySelector('#df-64853cc6-59e6-4b83-a85e-4c72b597d438 button.colab-df-convert');\n",
              "      buttonEl.style.display =\n",
              "        google.colab.kernel.accessAllowed ? 'block' : 'none';\n",
              "\n",
              "      async function convertToInteractive(key) {\n",
              "        const element = document.querySelector('#df-64853cc6-59e6-4b83-a85e-4c72b597d438');\n",
              "        const dataTable =\n",
              "          await google.colab.kernel.invokeFunction('convertToInteractive',\n",
              "                                                    [key], {});\n",
              "        if (!dataTable) return;\n",
              "\n",
              "        const docLinkHtml = 'Like what you see? Visit the ' +\n",
              "          '<a target=\"_blank\" href=https://colab.research.google.com/notebooks/data_table.ipynb>data table notebook</a>'\n",
              "          + ' to learn more about interactive tables.';\n",
              "        element.innerHTML = '';\n",
              "        dataTable['output_type'] = 'display_data';\n",
              "        await google.colab.output.renderOutput(dataTable, element);\n",
              "        const docLink = document.createElement('div');\n",
              "        docLink.innerHTML = docLinkHtml;\n",
              "        element.appendChild(docLink);\n",
              "      }\n",
              "    </script>\n",
              "  </div>\n",
              "\n",
              "\n",
              "<div id=\"df-692f3d69-6a82-4fbd-8476-8ce3c9552a10\">\n",
              "  <button class=\"colab-df-quickchart\" onclick=\"quickchart('df-692f3d69-6a82-4fbd-8476-8ce3c9552a10')\"\n",
              "            title=\"Suggest charts\"\n",
              "            style=\"display:none;\">\n",
              "\n",
              "<svg xmlns=\"http://www.w3.org/2000/svg\" height=\"24px\"viewBox=\"0 0 24 24\"\n",
              "     width=\"24px\">\n",
              "    <g>\n",
              "        <path d=\"M19 3H5c-1.1 0-2 .9-2 2v14c0 1.1.9 2 2 2h14c1.1 0 2-.9 2-2V5c0-1.1-.9-2-2-2zM9 17H7v-7h2v7zm4 0h-2V7h2v10zm4 0h-2v-4h2v4z\"/>\n",
              "    </g>\n",
              "</svg>\n",
              "  </button>\n",
              "\n",
              "<style>\n",
              "  .colab-df-quickchart {\n",
              "      --bg-color: #E8F0FE;\n",
              "      --fill-color: #1967D2;\n",
              "      --hover-bg-color: #E2EBFA;\n",
              "      --hover-fill-color: #174EA6;\n",
              "      --disabled-fill-color: #AAA;\n",
              "      --disabled-bg-color: #DDD;\n",
              "  }\n",
              "\n",
              "  [theme=dark] .colab-df-quickchart {\n",
              "      --bg-color: #3B4455;\n",
              "      --fill-color: #D2E3FC;\n",
              "      --hover-bg-color: #434B5C;\n",
              "      --hover-fill-color: #FFFFFF;\n",
              "      --disabled-bg-color: #3B4455;\n",
              "      --disabled-fill-color: #666;\n",
              "  }\n",
              "\n",
              "  .colab-df-quickchart {\n",
              "    background-color: var(--bg-color);\n",
              "    border: none;\n",
              "    border-radius: 50%;\n",
              "    cursor: pointer;\n",
              "    display: none;\n",
              "    fill: var(--fill-color);\n",
              "    height: 32px;\n",
              "    padding: 0;\n",
              "    width: 32px;\n",
              "  }\n",
              "\n",
              "  .colab-df-quickchart:hover {\n",
              "    background-color: var(--hover-bg-color);\n",
              "    box-shadow: 0 1px 2px rgba(60, 64, 67, 0.3), 0 1px 3px 1px rgba(60, 64, 67, 0.15);\n",
              "    fill: var(--button-hover-fill-color);\n",
              "  }\n",
              "\n",
              "  .colab-df-quickchart-complete:disabled,\n",
              "  .colab-df-quickchart-complete:disabled:hover {\n",
              "    background-color: var(--disabled-bg-color);\n",
              "    fill: var(--disabled-fill-color);\n",
              "    box-shadow: none;\n",
              "  }\n",
              "\n",
              "  .colab-df-spinner {\n",
              "    border: 2px solid var(--fill-color);\n",
              "    border-color: transparent;\n",
              "    border-bottom-color: var(--fill-color);\n",
              "    animation:\n",
              "      spin 1s steps(1) infinite;\n",
              "  }\n",
              "\n",
              "  @keyframes spin {\n",
              "    0% {\n",
              "      border-color: transparent;\n",
              "      border-bottom-color: var(--fill-color);\n",
              "      border-left-color: var(--fill-color);\n",
              "    }\n",
              "    20% {\n",
              "      border-color: transparent;\n",
              "      border-left-color: var(--fill-color);\n",
              "      border-top-color: var(--fill-color);\n",
              "    }\n",
              "    30% {\n",
              "      border-color: transparent;\n",
              "      border-left-color: var(--fill-color);\n",
              "      border-top-color: var(--fill-color);\n",
              "      border-right-color: var(--fill-color);\n",
              "    }\n",
              "    40% {\n",
              "      border-color: transparent;\n",
              "      border-right-color: var(--fill-color);\n",
              "      border-top-color: var(--fill-color);\n",
              "    }\n",
              "    60% {\n",
              "      border-color: transparent;\n",
              "      border-right-color: var(--fill-color);\n",
              "    }\n",
              "    80% {\n",
              "      border-color: transparent;\n",
              "      border-right-color: var(--fill-color);\n",
              "      border-bottom-color: var(--fill-color);\n",
              "    }\n",
              "    90% {\n",
              "      border-color: transparent;\n",
              "      border-bottom-color: var(--fill-color);\n",
              "    }\n",
              "  }\n",
              "</style>\n",
              "\n",
              "  <script>\n",
              "    async function quickchart(key) {\n",
              "      const quickchartButtonEl =\n",
              "        document.querySelector('#' + key + ' button');\n",
              "      quickchartButtonEl.disabled = true;  // To prevent multiple clicks.\n",
              "      quickchartButtonEl.classList.add('colab-df-spinner');\n",
              "      try {\n",
              "        const charts = await google.colab.kernel.invokeFunction(\n",
              "            'suggestCharts', [key], {});\n",
              "      } catch (error) {\n",
              "        console.error('Error during call to suggestCharts:', error);\n",
              "      }\n",
              "      quickchartButtonEl.classList.remove('colab-df-spinner');\n",
              "      quickchartButtonEl.classList.add('colab-df-quickchart-complete');\n",
              "    }\n",
              "    (() => {\n",
              "      let quickchartButtonEl =\n",
              "        document.querySelector('#df-692f3d69-6a82-4fbd-8476-8ce3c9552a10 button');\n",
              "      quickchartButtonEl.style.display =\n",
              "        google.colab.kernel.accessAllowed ? 'block' : 'none';\n",
              "    })();\n",
              "  </script>\n",
              "</div>\n",
              "\n",
              "    </div>\n",
              "  </div>\n"
            ],
            "application/vnd.google.colaboratory.intrinsic+json": {
              "type": "dataframe",
              "variable_name": "df",
              "summary": "{\n  \"name\": \"df\",\n  \"rows\": 398,\n  \"fields\": [\n    {\n      \"column\": \"car name\",\n      \"properties\": {\n        \"dtype\": \"string\",\n        \"num_unique_values\": 305,\n        \"samples\": [\n          \"mazda rx-4\",\n          \"ford f108\",\n          \"buick century luxus (sw)\"\n        ],\n        \"semantic_type\": \"\",\n        \"description\": \"\"\n      }\n    },\n    {\n      \"column\": \"mpg\",\n      \"properties\": {\n        \"dtype\": \"number\",\n        \"std\": 7.815984312565782,\n        \"min\": 9.0,\n        \"max\": 46.6,\n        \"num_unique_values\": 129,\n        \"samples\": [\n          17.7,\n          30.5,\n          30.0\n        ],\n        \"semantic_type\": \"\",\n        \"description\": \"\"\n      }\n    },\n    {\n      \"column\": \"cylinders\",\n      \"properties\": {\n        \"dtype\": \"number\",\n        \"std\": 1,\n        \"min\": 3,\n        \"max\": 8,\n        \"num_unique_values\": 5,\n        \"samples\": [\n          4,\n          5,\n          6\n        ],\n        \"semantic_type\": \"\",\n        \"description\": \"\"\n      }\n    },\n    {\n      \"column\": \"displacement\",\n      \"properties\": {\n        \"dtype\": \"number\",\n        \"std\": 104.26983817119581,\n        \"min\": 68.0,\n        \"max\": 455.0,\n        \"num_unique_values\": 82,\n        \"samples\": [\n          122.0,\n          307.0,\n          360.0\n        ],\n        \"semantic_type\": \"\",\n        \"description\": \"\"\n      }\n    },\n    {\n      \"column\": \"horsepower\",\n      \"properties\": {\n        \"dtype\": \"number\",\n        \"std\": 38.49115993282855,\n        \"min\": 46.0,\n        \"max\": 230.0,\n        \"num_unique_values\": 93,\n        \"samples\": [\n          92.0,\n          100.0,\n          52.0\n        ],\n        \"semantic_type\": \"\",\n        \"description\": \"\"\n      }\n    },\n    {\n      \"column\": \"weight\",\n      \"properties\": {\n        \"dtype\": \"number\",\n        \"std\": 846.8417741973271,\n        \"min\": 1613.0,\n        \"max\": 5140.0,\n        \"num_unique_values\": 351,\n        \"samples\": [\n          3730.0,\n          1995.0,\n          2215.0\n        ],\n        \"semantic_type\": \"\",\n        \"description\": \"\"\n      }\n    },\n    {\n      \"column\": \"acceleration\",\n      \"properties\": {\n        \"dtype\": \"number\",\n        \"std\": 2.7576889298126757,\n        \"min\": 8.0,\n        \"max\": 24.8,\n        \"num_unique_values\": 95,\n        \"samples\": [\n          14.7,\n          18.0,\n          14.3\n        ],\n        \"semantic_type\": \"\",\n        \"description\": \"\"\n      }\n    },\n    {\n      \"column\": \"model year\",\n      \"properties\": {\n        \"dtype\": \"number\",\n        \"std\": 3,\n        \"min\": 70,\n        \"max\": 82,\n        \"num_unique_values\": 13,\n        \"samples\": [\n          81,\n          79,\n          70\n        ],\n        \"semantic_type\": \"\",\n        \"description\": \"\"\n      }\n    },\n    {\n      \"column\": \"origin\",\n      \"properties\": {\n        \"dtype\": \"number\",\n        \"std\": 0,\n        \"min\": 1,\n        \"max\": 3,\n        \"num_unique_values\": 3,\n        \"samples\": [\n          1,\n          3,\n          2\n        ],\n        \"semantic_type\": \"\",\n        \"description\": \"\"\n      }\n    }\n  ]\n}"
            }
          },
          "metadata": {},
          "execution_count": 2
        }
      ],
      "source": [
        "# Cargamos la base de datos\n",
        "df = pd.read_csv('/content/drive/MyDrive/Colab Notebooks/Aprendizaje Supervisado/auto-mpg.data', sep='\\s+', header=None, na_values='?')\n",
        "# Definimos los nombres de las columnas\n",
        "cols = ['mpg', 'cylinders', 'displacement', 'horsepower', 'weight', 'acceleration', 'model year', 'origin', 'car name']\n",
        "df.columns = cols\n",
        "# Fijamos como índice el nombre del carro (como identificador único)\n",
        "df.set_index('car name', inplace=True)\n",
        "df.head()"
      ]
    },
    {
      "cell_type": "code",
      "source": [
        "df.info()"
      ],
      "metadata": {
        "colab": {
          "base_uri": "https://localhost:8080/"
        },
        "id": "ZODZerRKUYVD",
        "outputId": "76a43130-8950-4b70-de06-9c5e9481371d"
      },
      "execution_count": null,
      "outputs": [
        {
          "output_type": "stream",
          "name": "stdout",
          "text": [
            "<class 'pandas.core.frame.DataFrame'>\n",
            "Index: 398 entries, chevrolet chevelle malibu to chevy s-10\n",
            "Data columns (total 8 columns):\n",
            " #   Column        Non-Null Count  Dtype  \n",
            "---  ------        --------------  -----  \n",
            " 0   mpg           398 non-null    float64\n",
            " 1   cylinders     398 non-null    int64  \n",
            " 2   displacement  398 non-null    float64\n",
            " 3   horsepower    392 non-null    float64\n",
            " 4   weight        398 non-null    float64\n",
            " 5   acceleration  398 non-null    float64\n",
            " 6   model year    398 non-null    int64  \n",
            " 7   origin        398 non-null    int64  \n",
            "dtypes: float64(5), int64(3)\n",
            "memory usage: 28.0+ KB\n"
          ]
        }
      ]
    },
    {
      "cell_type": "markdown",
      "metadata": {
        "id": "DLTvP25tSgJ3"
      },
      "source": [
        "Para tener un punto de comparación, vamos a entrenar 2 modelos de clasificación, uno lineal y uno de árbol."
      ]
    },
    {
      "cell_type": "markdown",
      "source": [
        "## Clasificador lineal"
      ],
      "metadata": {
        "id": "b8NTjG_hzzp1"
      }
    },
    {
      "cell_type": "code",
      "execution_count": null,
      "metadata": {
        "colab": {
          "base_uri": "https://localhost:8080/"
        },
        "id": "UosU2b2FSgJ3",
        "outputId": "92e875b5-cce5-41f3-da8f-f565a292b5b0"
      },
      "outputs": [
        {
          "output_type": "stream",
          "name": "stdout",
          "text": [
            "Train: (274, 7) (274,)\n",
            "Test: (118, 7) (118,)\n"
          ]
        }
      ],
      "source": [
        "from sklearn.model_selection import train_test_split\n",
        "\n",
        "# Eliminamos registros con NA\n",
        "df_dropna = df.dropna()\n",
        "# La variable objetivo será el origen\n",
        "X = df_dropna.drop(columns=['origin'])\n",
        "# Separamos las observaciones de las etiquetas\n",
        "y = df_dropna['origin']\n",
        "# Hacemos la separación de entranamiento y validación\n",
        "X_train, X_test, y_train, y_test = train_test_split(X, y, test_size = 0.3, random_state = 1, stratify = y)\n",
        "# Verificamos los tamaños de los conjuntos\n",
        "print('Train:', X_train.shape, y_train.shape)\n",
        "print('Test:',  X_test.shape, y_test.shape)"
      ]
    },
    {
      "cell_type": "code",
      "source": [
        "from sklearn.pipeline import Pipeline\n",
        "from sklearn.compose import ColumnTransformer\n",
        "from sklearn.preprocessing import OneHotEncoder, OrdinalEncoder, StandardScaler\n",
        "from sklearn.linear_model import LogisticRegression\n",
        "from sklearn.model_selection import RandomizedSearchCV\n",
        "from scipy.stats import loguniform\n",
        "from sklearn.metrics import f1_score\n",
        "\n",
        "# Generamos una lista con los nombres de las variables numéricas flotantes\n",
        "num_vars = ['displacement', 'horsepower', 'weight', 'acceleration', 'mpg'] # Se definen las variables numéricas\n",
        "# Instanciamos los codificadores para las variables numéricas enteras\n",
        "oe_cyl = OrdinalEncoder(categories=[[3., 4., 5., 6., 8.]]) #el 3. hace que este se vuelva flotante (x.)\n",
        "oe_my = OrdinalEncoder(categories=[[70., 71., 72., 73., 74., 75., 76., 77., 78., 79., 80., 81., 82.]])\n",
        "\n",
        "# Instanciamos el escalador para las variables numéricas\n",
        "ss = StandardScaler()\n",
        "# Instanciamos el preprocesador\n",
        "preprocessor = ColumnTransformer(transformers = [('oe_cylinders', oe_cyl, ['cylinders']), # Codificación ordinal para la variable 'cylinders'\n",
        "                                               ('oe_model_year', oe_my, ['model year']), # Codificación ordinal para la variable 'model_year'\n",
        "                                               ('ss', ss, num_vars)], # Prepocesamiento de las variables numéricas\n",
        "                                               remainder = 'passthrough') # El resto de las columnas se mantienen sin cambios\n",
        "# Instanciamos el clasificador\n",
        "model = LogisticRegression(max_iter = 10000, solver = 'liblinear', class_weight = 'balanced') # Se define el modelo\n",
        "# Instanciamos el pipeline\n",
        "pipe = Pipeline([('preprocessor', preprocessor), ('model', model)]) #Organizar un poco mejor el proceso del modelo\n",
        "# Definimos los hiperparámetros que sintonizaremos en el clasificador\n",
        "dist = {'model__C':loguniform(1e-3, 1e3), 'model__penalty':['l1', 'l2']}\n",
        "\n",
        "# Hacemos la búsqueda de hiperparámetros\n",
        "grid_search = RandomizedSearchCV(estimator = pipe, param_distributions = dist, scoring = 'f1_weighted', cv = 5)\n",
        "grid_search.fit(X_train, y_train)\n",
        "\n",
        "# Encontramos el desempeño para el test\n",
        "test_score = f1_score(y_test, grid_search.best_estimator_.predict(X_test), average = 'weighted')\n",
        "\n",
        "print(f'Best validation score: {grid_search.best_score_:.3f} with {grid_search.best_params_}')\n",
        "print(f'Test score: {test_score:.3f}')"
      ],
      "metadata": {
        "colab": {
          "base_uri": "https://localhost:8080/"
        },
        "id": "8iBck9_MWcKG",
        "outputId": "665eb1d6-3237-443d-ed87-f852b89b6310"
      },
      "execution_count": null,
      "outputs": [
        {
          "output_type": "stream",
          "name": "stdout",
          "text": [
            "Best validation score: 0.770 with {'model__C': 6.703825475856579, 'model__penalty': 'l1'}\n",
            "Test score: 0.802\n"
          ]
        }
      ]
    },
    {
      "cell_type": "code",
      "source": [
        "from sklearn.metrics import classification_report\n",
        "# Imprimimos el  reporte de clasificación\n",
        "print(classification_report(y_test, grid_search.best_estimator_.predict(X_test)))"
      ],
      "metadata": {
        "colab": {
          "base_uri": "https://localhost:8080/"
        },
        "id": "xXV8VOmfy9sT",
        "outputId": "e5aa2bd5-8bb7-4f19-900b-cff6c2e4fdc9"
      },
      "execution_count": null,
      "outputs": [
        {
          "output_type": "stream",
          "name": "stdout",
          "text": [
            "              precision    recall  f1-score   support\n",
            "\n",
            "           1       0.92      0.92      0.92        74\n",
            "           2       0.60      0.45      0.51        20\n",
            "           3       0.62      0.75      0.68        24\n",
            "\n",
            "    accuracy                           0.81       118\n",
            "   macro avg       0.71      0.71      0.70       118\n",
            "weighted avg       0.80      0.81      0.80       118\n",
            "\n"
          ]
        }
      ]
    },
    {
      "cell_type": "markdown",
      "source": [
        "**support:** cuantas muestras hay de cada clase (puedo ver si hay desbalanceo)\n",
        "\n"
      ],
      "metadata": {
        "id": "PTGQ3aRfLIAY"
      }
    },
    {
      "cell_type": "code",
      "source": [
        "from sklearn.metrics import ConfusionMatrixDisplay\n",
        "# Visualizamos la matriz de confusión\n",
        "ConfusionMatrixDisplay.from_estimator(grid_search.best_estimator_, X_test, y_test);"
      ],
      "metadata": {
        "colab": {
          "base_uri": "https://localhost:8080/",
          "height": 449
        },
        "id": "dcXm0mrsy0xx",
        "outputId": "2a11b3dc-67e1-4100-c49b-25d7ebfc7947"
      },
      "execution_count": null,
      "outputs": [
        {
          "output_type": "display_data",
          "data": {
            "text/plain": [
              "<Figure size 640x480 with 2 Axes>"
            ],
            "image/png": "[encoded data removed]"
          },
          "metadata": {}
        }
      ]
    },
    {
      "cell_type": "markdown",
      "source": [
        "## Árbol de decisión"
      ],
      "metadata": {
        "id": "Xe1qBKaMz3m7"
      }
    },
    {
      "cell_type": "code",
      "source": [
        "from sklearn.model_selection import train_test_split\n",
        "# Procedemos igual al caso del clasificador lineal\n",
        "X = df.drop(columns=['origin'])\n",
        "y = df['origin']\n",
        "X_train, X_test, y_train, y_test = train_test_split(X, y, test_size = 0.3, random_state = 1, stratify = y)\n",
        "print('Train:', X_train.shape, y_train.shape)\n",
        "print('Test:',  X_test.shape, y_test.shape)"
      ],
      "metadata": {
        "colab": {
          "base_uri": "https://localhost:8080/"
        },
        "id": "QqirLa5gZ4pr",
        "outputId": "490569a0-abe1-4eb8-df2b-ad5165c6955e"
      },
      "execution_count": null,
      "outputs": [
        {
          "output_type": "stream",
          "name": "stdout",
          "text": [
            "Train: (278, 7) (278,)\n",
            "Test: (120, 7) (120,)\n"
          ]
        }
      ]
    },
    {
      "cell_type": "code",
      "execution_count": null,
      "metadata": {
        "colab": {
          "base_uri": "https://localhost:8080/"
        },
        "id": "XQEFQNOjSgJ3",
        "outputId": "8c3e908f-01d0-4ccb-c686-9b525679d575"
      },
      "outputs": [
        {
          "output_type": "stream",
          "name": "stdout",
          "text": [
            "Best validation score: 0.802 with {'ccp_alpha': 0.00748912486226376}\n",
            "Test score: 0.798\n"
          ]
        }
      ],
      "source": [
        "from sklearn.model_selection import RandomizedSearchCV\n",
        "from scipy.stats import loguniform\n",
        "from sklearn.metrics import f1_score\n",
        "from sklearn.tree import DecisionTreeClassifier\n",
        "\n",
        "# Hacemos poda con ccp_alpha\n",
        "dist = {'ccp_alpha':loguniform(1e-3, 1e3)}\n",
        "grid_search = RandomizedSearchCV(estimator = DecisionTreeClassifier(), param_distributions = dist, scoring = 'f1_weighted')\n",
        "grid_search.fit(X_train, y_train)\n",
        "\n",
        "test_score = f1_score(y_test, grid_search.best_estimator_.predict(X_test), average='weighted')\n",
        "\n",
        "print(f'Best validation score: {grid_search.best_score_:.3f} with {grid_search.best_params_}')\n",
        "print(f'Test score: {test_score:.3f}')"
      ]
    },
    {
      "cell_type": "code",
      "source": [
        "from sklearn.metrics import classification_report\n",
        "print(classification_report(y_test, grid_search.best_estimator_.predict(X_test)))"
      ],
      "metadata": {
        "colab": {
          "base_uri": "https://localhost:8080/"
        },
        "id": "f5Y8qywYzC_S",
        "outputId": "51599980-ea71-49a6-ab5f-a6362400c03b"
      },
      "execution_count": null,
      "outputs": [
        {
          "output_type": "stream",
          "name": "stdout",
          "text": [
            "              precision    recall  f1-score   support\n",
            "\n",
            "           1       0.88      0.89      0.89        75\n",
            "           2       0.68      0.71      0.70        21\n",
            "           3       0.64      0.58      0.61        24\n",
            "\n",
            "    accuracy                           0.80       120\n",
            "   macro avg       0.73      0.73      0.73       120\n",
            "weighted avg       0.80      0.80      0.80       120\n",
            "\n"
          ]
        }
      ]
    },
    {
      "cell_type": "code",
      "source": [
        "from sklearn.metrics import ConfusionMatrixDisplay\n",
        "ConfusionMatrixDisplay.from_estimator(grid_search.best_estimator_, X_test, y_test);"
      ],
      "metadata": {
        "colab": {
          "base_uri": "https://localhost:8080/",
          "height": 449
        },
        "id": "0HCeZwu6hv8u",
        "outputId": "a72798e1-d054-455c-faac-49fff54568b5"
      },
      "execution_count": null,
      "outputs": [
        {
          "output_type": "display_data",
          "data": {
            "text/plain": [
              "<Figure size 640x480 with 2 Axes>"
            ],
            "image/png": "[encoded data removed]"
          },
          "metadata": {}
        }
      ]
    },
    {
      "cell_type": "markdown",
      "source": [
        "# Modelos bagging"
      ],
      "metadata": {
        "id": "G_NnzPi5z8OQ"
      }
    },
    {
      "cell_type": "markdown",
      "source": [
        "La primera pregunta que surge es ¿que sentido tiene entrenar muchos árboles con los mismos datos?. En realidad, entrenar muchos estimadores del mismo tipo con el mismo conjunto de datos, conducirá a tener modelos muy similares, y el problema del sobreajuste no se solucionará. En realidad, lo ideal sería tener *un conjunto de datos diferente* para entrenar cada árbol.\n",
        "\n",
        "¿Cómo conseguimos tener muchos conjuntos de datos diferentes? Usando técnicas de *remuestreo*.\n",
        "\n",
        "La técnica de remuestreo más utilizada es el *bootstrap*, que consiste en hacer un nuevo dataset del mismo tamaño que conjunto de datos original, eligiendo al azar observaciones de este *una por una*, reemplazando las observaciones que van siendo elegidas. Esto significa que algunas observaciones pueden ser elegidas más de una vez, y algunos pueden no ser elegidas en absoluto. La gráfica siguiente lo ilustra:\n",
        "\n",
        "![image.png](data:image/png;base64,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)"
      ],
      "metadata": {
        "id": "wS0fxcpj0BbQ"
      }
    },
    {
      "cell_type": "markdown",
      "source": [
        "De este manera, podemos generar tantos conjuntos de datos como estimadores por entrenar tengamos. De esta manera, podemos entrenar cada estimador *de manera independiente*, y en paralelo si tenemos varios procesadores.\n",
        "\n",
        "La siguiente pregunta que surge es ¿cómo se hace una predicción única si todos los estimadores pueden hacer predicciones diferentes?\n",
        "\n",
        "En modelos de regresión la predicción es el valor promedio de las predicciones de los estimadores, y en clasificación, la predicción es la clase que más frecuentemente ha sido predicha por los estimadores.\n",
        "\n",
        "Un modelo que funciona así se llama modelo de *Bagging*, y vamos a ver como se codifica."
      ],
      "metadata": {
        "id": "zrchR-EN4Fc2"
      }
    },
    {
      "cell_type": "code",
      "source": [
        "from sklearn.ensemble import BaggingClassifier\n",
        "from sklearn.tree import DecisionTreeClassifier\n",
        "from sklearn.metrics import f1_score\n",
        "\n",
        "# Instanciamos el modelo de ensamble con los árboles como clasificadores. Tendremos 100 árboles\n",
        "bag_model = BaggingClassifier(estimator = DecisionTreeClassifier(), n_estimators = 100, random_state = 77)\n",
        "# Entrenamos el modelo\n",
        "bag_model.fit(X_train, y_train)\n",
        "train_score = f1_score(y_train, bag_model.predict(X_train), average = 'weighted')\n",
        "test_score = f1_score(y_test, bag_model.predict(X_test), average = 'weighted')\n",
        "print(f'Train score: {train_score:.2f}')\n",
        "print(f'Test score: {test_score:.2f}')"
      ],
      "metadata": {
        "colab": {
          "base_uri": "https://localhost:8080/"
        },
        "id": "xduwO1Qf7jUJ",
        "outputId": "039813e1-8dba-44f6-ed9d-dbf0e6954454"
      },
      "execution_count": null,
      "outputs": [
        {
          "output_type": "stream",
          "name": "stdout",
          "text": [
            "Train score: 1.00\n",
            "Test score: 0.85\n"
          ]
        }
      ]
    },
    {
      "cell_type": "markdown",
      "source": [
        "Este modelo está sobreajustado, así que hay que regularizarlo.\n",
        "\n",
        "En este caso, se pueden regularizar los árboles limitando la profundidad, y se puede sintonizar el número de estimadores a usar.\n"
      ],
      "metadata": {
        "id": "G5DpHYpJ68HV"
      }
    },
    {
      "cell_type": "code",
      "source": [
        "from sklearn.model_selection import RandomizedSearchCV\n",
        "from sklearn.metrics import f1_score\n",
        "from scipy.stats import loguniform\n",
        "\n",
        "bag_model = BaggingClassifier(estimator = DecisionTreeClassifier(ccp_alpha = 0.01)) #Bajr el overfitting del árbol (ccp_alpha)\n",
        "dist = {'n_estimators':range(1, 201)}\n",
        "grid_search = RandomizedSearchCV(estimator = bag_model, param_distributions = dist, cv = 5, scoring = 'f1_weighted')\n",
        "grid_search.fit(X_train, y_train)\n",
        "\n",
        "print(f'Best score: {grid_search.best_score_:.2f} with {grid_search.best_params_}')\n",
        "print(f'Test score: {grid_search.best_estimator_.score(X_test, y_test):.2f}')"
      ],
      "metadata": {
        "colab": {
          "base_uri": "https://localhost:8080/"
        },
        "id": "CJA-nt2i78E3",
        "outputId": "ea71fb80-5548-4f8e-cd55-84a5b87dcf17"
      },
      "execution_count": null,
      "outputs": [
        {
          "output_type": "stream",
          "name": "stdout",
          "text": [
            "Best score: 0.81 with {'n_estimators': 33}\n",
            "Test score: 0.84\n"
          ]
        }
      ]
    },
    {
      "cell_type": "code",
      "source": [
        "from sklearn.metrics import classification_report\n",
        "print(classification_report(y_test, grid_search.best_estimator_.predict(X_test)))"
      ],
      "metadata": {
        "colab": {
          "base_uri": "https://localhost:8080/"
        },
        "id": "d9x3PQ-V8nHs",
        "outputId": "506c7fcb-ed32-4f35-b0e6-f8b23f0c2cfe"
      },
      "execution_count": null,
      "outputs": [
        {
          "output_type": "stream",
          "name": "stdout",
          "text": [
            "              precision    recall  f1-score   support\n",
            "\n",
            "           1       0.88      0.93      0.90        75\n",
            "           2       0.65      0.71      0.68        21\n",
            "           3       0.94      0.67      0.78        24\n",
            "\n",
            "    accuracy                           0.84       120\n",
            "   macro avg       0.82      0.77      0.79       120\n",
            "weighted avg       0.85      0.84      0.84       120\n",
            "\n"
          ]
        }
      ]
    },
    {
      "cell_type": "code",
      "source": [
        "from sklearn.metrics import ConfusionMatrixDisplay\n",
        "ConfusionMatrixDisplay.from_estimator(grid_search.best_estimator_, X_test, y_test);"
      ],
      "metadata": {
        "colab": {
          "base_uri": "https://localhost:8080/",
          "height": 455
        },
        "id": "OELk1_uV8rvT",
        "outputId": "f08ee133-d3e8-4cce-9c05-259305ee5645"
      },
      "execution_count": null,
      "outputs": [
        {
          "output_type": "display_data",
          "data": {
            "text/plain": [
              "<Figure size 640x480 with 2 Axes>"
            ],
            "image/png": "[encoded data removed]"
          },
          "metadata": {}
        }
      ]
    },
    {
      "cell_type": "markdown",
      "source": [
        "Vemos que este modelo tiene mejor desempeño que los modelos lineal y de único árbol."
      ],
      "metadata": {
        "id": "I68JHogO81Oj"
      }
    },
    {
      "cell_type": "markdown",
      "metadata": {
        "id": "FqLzq6EySgKD"
      },
      "source": [
        "# Random Forest"
      ]
    },
    {
      "cell_type": "markdown",
      "source": [
        "Hacer bootstrapping soluciona el problema de tener muchos datasets. Sin embargo, los datasets generados, al provenir de un único dataset, tienen similaridades entre sí, es decir que no son independientes, y esta condición es deseable para minimizar el *sesgo* que puedan tener los árboles.\n",
        "\n",
        "Una posible solución, al menos parcialmente, es entrenar cada estimador con *características diferentes*. Esto es lo que hacen los modelos de bosques alaetorios - *Random Forest*.\n",
        "\n",
        "Un *bosque aleatorio* es un modelo de ensamble formado por muchos árboles de decisión, donde cada uno de ellos es entrenado con un conjunto de datos diferentes generado por la técnica de *bootstrapping*; adicionalmente, para lograr una mayor diversidad de los estimadores, en cada nodo del árbol se selecciona aleatoriamente un subconjunto de características, de las cuales se escogerá la siguiente a usar para particionar el árbol."
      ],
      "metadata": {
        "id": "fsyrlPFg9Cb5"
      }
    },
    {
      "cell_type": "markdown",
      "source": [
        "Para regularizar un bosque aleatorio y evitar que se sobreajuste existen varios hiperparámetros que se pueden sintonizar; entre estos están:\n",
        "1. n_estimators: Este hiperparámetro controla la cantidad de árboles de decisión dentro del bosque. Aunque se podría pensar que usar muchos árboles para ajustar un modelo ayudan a obtener un resultado más generalizable, esto no siempre es así. Aunque no causan ningún sobreajuste, aumentan la complejidad temporal del modelo.\n",
        "2. max_depth: Este hiperparámetro rige la profundidad máxima hasta la que pueden crecer los árboles dentro del bosque. A medida que aumentamos la profundidad del árbol, la precisión del modelo aumenta hasta cierto límite, pero luego comenzará a disminuir gradualmente debido al sobreajuste en el modelo.\n",
        "3. min_samples_split: Este hiperparámetro especifica la cantidad mínima de muestras que debe tener un nodo interno para dividirse en más nodos. Si tenemos un valor muy bajo de min_samples_splits, entonces, en este caso, el árbol continuará creciendo y comenzará a sobreajustarse.\n",
        "4. max_features: Este hiperparámetro determina la cantidad de características que se deben considerar al buscar la mejor división. Se puede establecer como un número entero, flotante, string o None. Si es un entero, entonces considera ese número de características en cada división. Si es flotante, entonces muestra un porcentaje y las características $int(max_features * n_features)$ son consideradas en cada división. Si es \"sqrt\", entonces en cada división son consideradas únicamente la raíz cuadrada del total de características. Si es \"log2\", entonces solo las $log2(n_features)$ del total de características son consideradas en cada división. Si None, entonces todas las características son consideradas en cada división.\n",
        "4. min_samples_leaf: Este hiperparámetro especifica el número mínimo de muestras que se deben tener en un nodo hoja. Un punto de división en cualquier profundidad solo se considerará si deja al menos min_samples_leaf muestras de entrenamiento en cada una de las ramas izquierda y derecha.\n",
        "5. ccp_alpha: es un parámetro que se utiliza en un algoritmo de podado en los árboles de decisión, basado en la relación entre costo y complejidad. Un valor más alto de ccp_alpha resultará en árboles más pequeños y un modelo más simple, mientras que un valor más bajo permitirá que los árboles crezcan más y resultará en un modelo más complejo.\n",
        "\n",
        "Vamos a entrenar un bosque aleatorio sintonizando algunos de estos hiperparámetros:"
      ],
      "metadata": {
        "id": "v6ik1dG6eV51"
      }
    },
    {
      "cell_type": "code",
      "execution_count": null,
      "metadata": {
        "colab": {
          "base_uri": "https://localhost:8080/"
        },
        "id": "hiV0kdIaSgKD",
        "outputId": "8ddb72d7-9e29-4292-daac-a1013cf772a3"
      },
      "outputs": [
        {
          "output_type": "stream",
          "name": "stdout",
          "text": [
            "Best score: 0.81 with {'ccp_alpha': 0.00276319195134762, 'n_estimators': 55}\n",
            "Test score: 0.83\n"
          ]
        }
      ],
      "source": [
        "from sklearn.model_selection import RandomizedSearchCV\n",
        "from sklearn.ensemble import RandomForestClassifier\n",
        "from sklearn.metrics import f1_score\n",
        "from scipy.stats import loguniform\n",
        "\n",
        "rf_model = RandomForestClassifier(random_state=77)\n",
        "dist = {'n_estimators':range(1, 201), 'ccp_alpha':loguniform(1e-4, 1e2)}\n",
        "grid_search = RandomizedSearchCV(estimator=rf_model, param_distributions=dist, cv=5, random_state=77, scoring='f1_weighted')\n",
        "grid_search.fit(X_train, y_train)\n",
        "\n",
        "test_score = f1_score(y_test, grid_search.predict(X_test), average='weighted')\n",
        "print(f'Best score: {grid_search.best_score_:.2f} with {grid_search.best_params_}')\n",
        "print(f'Test score: {grid_search.best_estimator_.score(X_test, y_test):.2f}')"
      ]
    },
    {
      "cell_type": "code",
      "source": [
        "from sklearn.metrics import classification_report\n",
        "print(classification_report(y_test, grid_search.best_estimator_.predict(X_test)))"
      ],
      "metadata": {
        "colab": {
          "base_uri": "https://localhost:8080/"
        },
        "id": "cRKO_v_lcF9N",
        "outputId": "c583a183-a4bc-4742-becc-d8829b99c553"
      },
      "execution_count": null,
      "outputs": [
        {
          "output_type": "stream",
          "name": "stdout",
          "text": [
            "              precision    recall  f1-score   support\n",
            "\n",
            "           1       0.89      0.89      0.89        75\n",
            "           2       0.62      0.71      0.67        21\n",
            "           3       0.86      0.75      0.80        24\n",
            "\n",
            "    accuracy                           0.83       120\n",
            "   macro avg       0.79      0.79      0.79       120\n",
            "weighted avg       0.84      0.83      0.84       120\n",
            "\n"
          ]
        }
      ]
    },
    {
      "cell_type": "code",
      "source": [
        "from sklearn.metrics import ConfusionMatrixDisplay\n",
        "ConfusionMatrixDisplay.from_estimator(grid_search.best_estimator_, X_test, y_test);"
      ],
      "metadata": {
        "colab": {
          "base_uri": "https://localhost:8080/",
          "height": 449
        },
        "id": "pfq5SvwNcIJi",
        "outputId": "b7eead85-26e0-4ae7-8d79-209c67d9d074"
      },
      "execution_count": null,
      "outputs": [
        {
          "output_type": "display_data",
          "data": {
            "text/plain": [
              "<Figure size 640x480 with 2 Axes>"
            ],
            "image/png": "[encoded data removed]"
          },
          "metadata": {}
        }
      ]
    },
    {
      "cell_type": "code",
      "source": [
        "from sklearn.model_selection import RandomizedSearchCV\n",
        "from sklearn.ensemble import RandomForestClassifier\n",
        "from sklearn.metrics import f1_score\n",
        "from scipy.stats import loguniform\n",
        "\n",
        "rf_model = RandomForestClassifier(random_state=77)\n",
        "dist = {'n_estimators':range(1, 201), 'max_depth':range(2,10), 'min_samples_split':range(2,5)} #limitando máx de profundidad y un min_sample_split (evitar el sobre-ajuste)\n",
        "grid_search = RandomizedSearchCV(estimator=rf_model, param_distributions=dist, cv=5, random_state=77, scoring='f1_weighted')\n",
        "grid_search.fit(X_train, y_train)\n",
        "\n",
        "test_score = f1_score(y_test, grid_search.predict(X_test), average='weighted')\n",
        "print(f'Best score: {grid_search.best_score_:.2f} with {grid_search.best_params_}')\n",
        "print(f'Test score: {grid_search.best_estimator_.score(X_test, y_test):.2f}')"
      ],
      "metadata": {
        "colab": {
          "base_uri": "https://localhost:8080/"
        },
        "id": "aSjlDX6WjBsy",
        "outputId": "420966fd-afce-49f4-c942-ee3cbe3faaae"
      },
      "execution_count": null,
      "outputs": [
        {
          "output_type": "stream",
          "name": "stdout",
          "text": [
            "Best score: 0.82 with {'n_estimators': 114, 'min_samples_split': 4, 'max_depth': 7}\n",
            "Test score: 0.84\n"
          ]
        }
      ]
    },
    {
      "cell_type": "code",
      "execution_count": null,
      "metadata": {
        "colab": {
          "base_uri": "https://localhost:8080/"
        },
        "id": "DsW2yYSfSgKE",
        "outputId": "3e2c8775-e310-4410-deca-cf76144d0c0e"
      },
      "outputs": [
        {
          "output_type": "stream",
          "name": "stdout",
          "text": [
            "              precision    recall  f1-score   support\n",
            "\n",
            "           1       0.87      0.92      0.90        75\n",
            "           2       0.68      0.71      0.70        21\n",
            "           3       0.89      0.71      0.79        24\n",
            "\n",
            "    accuracy                           0.84       120\n",
            "   macro avg       0.82      0.78      0.79       120\n",
            "weighted avg       0.84      0.84      0.84       120\n",
            "\n"
          ]
        }
      ],
      "source": [
        "from sklearn.metrics import classification_report\n",
        "print(classification_report(y_test, grid_search.best_estimator_.predict(X_test)))"
      ]
    },
    {
      "cell_type": "code",
      "execution_count": null,
      "metadata": {
        "colab": {
          "base_uri": "https://localhost:8080/",
          "height": 449
        },
        "id": "pk0Ou92SSgKE",
        "outputId": "987abeb8-c4c9-4cf3-d9ee-2c82fc8e970a"
      },
      "outputs": [
        {
          "output_type": "display_data",
          "data": {
            "text/plain": [
              "<Figure size 640x480 with 2 Axes>"
            ],
            "image/png": "[encoded data removed]"
          },
          "metadata": {}
        }
      ],
      "source": [
        "from sklearn.metrics import ConfusionMatrixDisplay\n",
        "ConfusionMatrixDisplay.from_estimator(grid_search.best_estimator_, X_test, y_test);"
      ]
    },
    {
      "cell_type": "markdown",
      "source": [
        "Una desventaja de estos modelos es que no son tan fáciles de interpretar como los modelos lineales, en los cuales podemos saber con certeza cuando pesa cada característica en la predicción, o los árboles de decisión, en los que se puede construir un grafo que representa las decisiones que se tomaron para hacer una predicción.\n",
        "\n",
        "Con los modelos de ensamble no tenemos nada de eso, pero en la implementación de Scikit Learn tienen el atributo *features_importances_*, que, como su nombre lo indica, entrega la importancia de cada característica computada mediante el algoritmo de Gini.\n",
        "\n"
      ],
      "metadata": {
        "id": "8ZeBwJ3ijsWQ"
      }
    },
    {
      "cell_type": "code",
      "execution_count": null,
      "metadata": {
        "colab": {
          "base_uri": "https://localhost:8080/",
          "height": 269
        },
        "id": "DWx7ib_BSgKG",
        "outputId": "67023270-4896-49a8-b2e0-22228ed19d0e"
      },
      "outputs": [
        {
          "output_type": "execute_result",
          "data": {
            "text/plain": [
              "        Feature  Importance\n",
              "2  displacement    0.293881\n",
              "3    horsepower    0.180171\n",
              "4        weight    0.172913\n",
              "0           mpg    0.117271\n",
              "5  acceleration    0.105326\n",
              "1     cylinders    0.077434\n",
              "6    model year    0.053003"
            ],
            "text/html": [
              "\n",
              "  <div id=\"df-a10f4c2b-3e9c-477b-87a3-874ee88d3474\" class=\"colab-df-container\">\n",
              "    <div>\n",
              "<style scoped>\n",
              "    .dataframe tbody tr th:only-of-type {\n",
              "        vertical-align: middle;\n",
              "    }\n",
              "\n",
              "    .dataframe tbody tr th {\n",
              "        vertical-align: top;\n",
              "    }\n",
              "\n",
              "    .dataframe thead th {\n",
              "        text-align: right;\n",
              "    }\n",
              "</style>\n",
              "<table border=\"1\" class=\"dataframe\">\n",
              "  <thead>\n",
              "    <tr style=\"text-align: right;\">\n",
              "      <th></th>\n",
              "      <th>Feature</th>\n",
              "      <th>Importance</th>\n",
              "    </tr>\n",
              "  </thead>\n",
              "  <tbody>\n",
              "    <tr>\n",
              "      <th>2</th>\n",
              "      <td>displacement</td>\n",
              "      <td>0.293881</td>\n",
              "    </tr>\n",
              "    <tr>\n",
              "      <th>3</th>\n",
              "      <td>horsepower</td>\n",
              "      <td>0.180171</td>\n",
              "    </tr>\n",
              "    <tr>\n",
              "      <th>4</th>\n",
              "      <td>weight</td>\n",
              "      <td>0.172913</td>\n",
              "    </tr>\n",
              "    <tr>\n",
              "      <th>0</th>\n",
              "      <td>mpg</td>\n",
              "      <td>0.117271</td>\n",
              "    </tr>\n",
              "    <tr>\n",
              "      <th>5</th>\n",
              "      <td>acceleration</td>\n",
              "      <td>0.105326</td>\n",
              "    </tr>\n",
              "    <tr>\n",
              "      <th>1</th>\n",
              "      <td>cylinders</td>\n",
              "      <td>0.077434</td>\n",
              "    </tr>\n",
              "    <tr>\n",
              "      <th>6</th>\n",
              "      <td>model year</td>\n",
              "      <td>0.053003</td>\n",
              "    </tr>\n",
              "  </tbody>\n",
              "</table>\n",
              "</div>\n",
              "    <div class=\"colab-df-buttons\">\n",
              "\n",
              "  <div class=\"colab-df-container\">\n",
              "    <button class=\"colab-df-convert\" onclick=\"convertToInteractive('df-a10f4c2b-3e9c-477b-87a3-874ee88d3474')\"\n",
              "            title=\"Convert this dataframe to an interactive table.\"\n",
              "            style=\"display:none;\">\n",
              "\n",
              "  <svg xmlns=\"http://www.w3.org/2000/svg\" height=\"24px\" viewBox=\"0 -960 960 960\">\n",
              "    <path d=\"M120-120v-720h720v720H120Zm60-500h600v-160H180v160Zm220 220h160v-160H400v160Zm0 220h160v-160H400v160ZM180-400h160v-160H180v160Zm440 0h160v-160H620v160ZM180-180h160v-160H180v160Zm440 0h160v-160H620v160Z\"/>\n",
              "  </svg>\n",
              "    </button>\n",
              "\n",
              "  <style>\n",
              "    .colab-df-container {\n",
              "      display:flex;\n",
              "      gap: 12px;\n",
              "    }\n",
              "\n",
              "    .colab-df-convert {\n",
              "      background-color: #E8F0FE;\n",
              "      border: none;\n",
              "      border-radius: 50%;\n",
              "      cursor: pointer;\n",
              "      display: none;\n",
              "      fill: #1967D2;\n",
              "      height: 32px;\n",
              "      padding: 0 0 0 0;\n",
              "      width: 32px;\n",
              "    }\n",
              "\n",
              "    .colab-df-convert:hover {\n",
              "      background-color: #E2EBFA;\n",
              "      box-shadow: 0px 1px 2px rgba(60, 64, 67, 0.3), 0px 1px 3px 1px rgba(60, 64, 67, 0.15);\n",
              "      fill: #174EA6;\n",
              "    }\n",
              "\n",
              "    .colab-df-buttons div {\n",
              "      margin-bottom: 4px;\n",
              "    }\n",
              "\n",
              "    [theme=dark] .colab-df-convert {\n",
              "      background-color: #3B4455;\n",
              "      fill: #D2E3FC;\n",
              "    }\n",
              "\n",
              "    [theme=dark] .colab-df-convert:hover {\n",
              "      background-color: #434B5C;\n",
              "      box-shadow: 0px 1px 3px 1px rgba(0, 0, 0, 0.15);\n",
              "      filter: drop-shadow(0px 1px 2px rgba(0, 0, 0, 0.3));\n",
              "      fill: #FFFFFF;\n",
              "    }\n",
              "  </style>\n",
              "\n",
              "    <script>\n",
              "      const buttonEl =\n",
              "        document.querySelector('#df-a10f4c2b-3e9c-477b-87a3-874ee88d3474 button.colab-df-convert');\n",
              "      buttonEl.style.display =\n",
              "        google.colab.kernel.accessAllowed ? 'block' : 'none';\n",
              "\n",
              "      async function convertToInteractive(key) {\n",
              "        const element = document.querySelector('#df-a10f4c2b-3e9c-477b-87a3-874ee88d3474');\n",
              "        const dataTable =\n",
              "          await google.colab.kernel.invokeFunction('convertToInteractive',\n",
              "                                                    [key], {});\n",
              "        if (!dataTable) return;\n",
              "\n",
              "        const docLinkHtml = 'Like what you see? Visit the ' +\n",
              "          '<a target=\"_blank\" href=https://colab.research.google.com/notebooks/data_table.ipynb>data table notebook</a>'\n",
              "          + ' to learn more about interactive tables.';\n",
              "        element.innerHTML = '';\n",
              "        dataTable['output_type'] = 'display_data';\n",
              "        await google.colab.output.renderOutput(dataTable, element);\n",
              "        const docLink = document.createElement('div');\n",
              "        docLink.innerHTML = docLinkHtml;\n",
              "        element.appendChild(docLink);\n",
              "      }\n",
              "    </script>\n",
              "  </div>\n",
              "\n",
              "\n",
              "<div id=\"df-a479e14f-0370-4b84-96b8-8cb0e21ea403\">\n",
              "  <button class=\"colab-df-quickchart\" onclick=\"quickchart('df-a479e14f-0370-4b84-96b8-8cb0e21ea403')\"\n",
              "            title=\"Suggest charts\"\n",
              "            style=\"display:none;\">\n",
              "\n",
              "<svg xmlns=\"http://www.w3.org/2000/svg\" height=\"24px\"viewBox=\"0 0 24 24\"\n",
              "     width=\"24px\">\n",
              "    <g>\n",
              "        <path d=\"M19 3H5c-1.1 0-2 .9-2 2v14c0 1.1.9 2 2 2h14c1.1 0 2-.9 2-2V5c0-1.1-.9-2-2-2zM9 17H7v-7h2v7zm4 0h-2V7h2v10zm4 0h-2v-4h2v4z\"/>\n",
              "    </g>\n",
              "</svg>\n",
              "  </button>\n",
              "\n",
              "<style>\n",
              "  .colab-df-quickchart {\n",
              "      --bg-color: #E8F0FE;\n",
              "      --fill-color: #1967D2;\n",
              "      --hover-bg-color: #E2EBFA;\n",
              "      --hover-fill-color: #174EA6;\n",
              "      --disabled-fill-color: #AAA;\n",
              "      --disabled-bg-color: #DDD;\n",
              "  }\n",
              "\n",
              "  [theme=dark] .colab-df-quickchart {\n",
              "      --bg-color: #3B4455;\n",
              "      --fill-color: #D2E3FC;\n",
              "      --hover-bg-color: #434B5C;\n",
              "      --hover-fill-color: #FFFFFF;\n",
              "      --disabled-bg-color: #3B4455;\n",
              "      --disabled-fill-color: #666;\n",
              "  }\n",
              "\n",
              "  .colab-df-quickchart {\n",
              "    background-color: var(--bg-color);\n",
              "    border: none;\n",
              "    border-radius: 50%;\n",
              "    cursor: pointer;\n",
              "    display: none;\n",
              "    fill: var(--fill-color);\n",
              "    height: 32px;\n",
              "    padding: 0;\n",
              "    width: 32px;\n",
              "  }\n",
              "\n",
              "  .colab-df-quickchart:hover {\n",
              "    background-color: var(--hover-bg-color);\n",
              "    box-shadow: 0 1px 2px rgba(60, 64, 67, 0.3), 0 1px 3px 1px rgba(60, 64, 67, 0.15);\n",
              "    fill: var(--button-hover-fill-color);\n",
              "  }\n",
              "\n",
              "  .colab-df-quickchart-complete:disabled,\n",
              "  .colab-df-quickchart-complete:disabled:hover {\n",
              "    background-color: var(--disabled-bg-color);\n",
              "    fill: var(--disabled-fill-color);\n",
              "    box-shadow: none;\n",
              "  }\n",
              "\n",
              "  .colab-df-spinner {\n",
              "    border: 2px solid var(--fill-color);\n",
              "    border-color: transparent;\n",
              "    border-bottom-color: var(--fill-color);\n",
              "    animation:\n",
              "      spin 1s steps(1) infinite;\n",
              "  }\n",
              "\n",
              "  @keyframes spin {\n",
              "    0% {\n",
              "      border-color: transparent;\n",
              "      border-bottom-color: var(--fill-color);\n",
              "      border-left-color: var(--fill-color);\n",
              "    }\n",
              "    20% {\n",
              "      border-color: transparent;\n",
              "      border-left-color: var(--fill-color);\n",
              "      border-top-color: var(--fill-color);\n",
              "    }\n",
              "    30% {\n",
              "      border-color: transparent;\n",
              "      border-left-color: var(--fill-color);\n",
              "      border-top-color: var(--fill-color);\n",
              "      border-right-color: var(--fill-color);\n",
              "    }\n",
              "    40% {\n",
              "      border-color: transparent;\n",
              "      border-right-color: var(--fill-color);\n",
              "      border-top-color: var(--fill-color);\n",
              "    }\n",
              "    60% {\n",
              "      border-color: transparent;\n",
              "      border-right-color: var(--fill-color);\n",
              "    }\n",
              "    80% {\n",
              "      border-color: transparent;\n",
              "      border-right-color: var(--fill-color);\n",
              "      border-bottom-color: var(--fill-color);\n",
              "    }\n",
              "    90% {\n",
              "      border-color: transparent;\n",
              "      border-bottom-color: var(--fill-color);\n",
              "    }\n",
              "  }\n",
              "</style>\n",
              "\n",
              "  <script>\n",
              "    async function quickchart(key) {\n",
              "      const quickchartButtonEl =\n",
              "        document.querySelector('#' + key + ' button');\n",
              "      quickchartButtonEl.disabled = true;  // To prevent multiple clicks.\n",
              "      quickchartButtonEl.classList.add('colab-df-spinner');\n",
              "      try {\n",
              "        const charts = await google.colab.kernel.invokeFunction(\n",
              "            'suggestCharts', [key], {});\n",
              "      } catch (error) {\n",
              "        console.error('Error during call to suggestCharts:', error);\n",
              "      }\n",
              "      quickchartButtonEl.classList.remove('colab-df-spinner');\n",
              "      quickchartButtonEl.classList.add('colab-df-quickchart-complete');\n",
              "    }\n",
              "    (() => {\n",
              "      let quickchartButtonEl =\n",
              "        document.querySelector('#df-a479e14f-0370-4b84-96b8-8cb0e21ea403 button');\n",
              "      quickchartButtonEl.style.display =\n",
              "        google.colab.kernel.accessAllowed ? 'block' : 'none';\n",
              "    })();\n",
              "  </script>\n",
              "</div>\n",
              "\n",
              "    </div>\n",
              "  </div>\n"
            ],
            "application/vnd.google.colaboratory.intrinsic+json": {
              "type": "dataframe",
              "summary": "{\n  \"name\": \"rf_features\",\n  \"rows\": 7,\n  \"fields\": [\n    {\n      \"column\": \"Feature\",\n      \"properties\": {\n        \"dtype\": \"string\",\n        \"num_unique_values\": 7,\n        \"samples\": [\n          \"displacement\",\n          \"horsepower\",\n          \"cylinders\"\n        ],\n        \"semantic_type\": \"\",\n        \"description\": \"\"\n      }\n    },\n    {\n      \"column\": \"Importance\",\n      \"properties\": {\n        \"dtype\": \"number\",\n        \"std\": 0.08115956180498442,\n        \"min\": 0.05300260379717615,\n        \"max\": 0.2938813289003618,\n        \"num_unique_values\": 7,\n        \"samples\": [\n          0.2938813289003618,\n          0.180171138882393,\n          0.07743407195840327\n        ],\n        \"semantic_type\": \"\",\n        \"description\": \"\"\n      }\n    }\n  ]\n}"
            }
          },
          "metadata": {},
          "execution_count": 24
        }
      ],
      "source": [
        "rf_features = pd.DataFrame({'Feature': X.columns, 'Importance': grid_search.best_estimator_.feature_importances_})\n",
        "rf_features.sort_values('Importance', ascending=False)"
      ]
    },
    {
      "cell_type": "markdown",
      "metadata": {
        "id": "CrZxBi1ESgKI"
      },
      "source": [
        "# Gradient Boosting"
      ]
    },
    {
      "cell_type": "markdown",
      "source": [
        "Los modelos de gradient boosting se diferencian de otros métodos de ensamble en que **aprenden de forma aditiva**. Esto significa que cada nuevo árbol de decisión se entrena utilizando los errores de los árboles anteriores, lo que permite al modelo mejorar iterativamente su rendimiento.\n",
        "\n",
        "**¿Cómo funciona el proceso?**\n",
        "\n",
        "1. **Árbol inicial:** Se comienza con un **árbol de decisión inicial**, que puede ser un árbol simple o generado aleatoriamente. Este árbol predice los valores para el conjunto de datos.\n",
        "\n",
        "2. **Errores residuales:** Se calculan los **errores residuales**, que son la diferencia entre las predicciones del árbol inicial y los valores reales del conjunto de datos.\n",
        "\n",
        "3. **Nuevo árbol:** Se entrena un **nuevo árbol de decisión** utilizando los errores residuales del paso anterior. El objetivo de este nuevo árbol es **corregir los errores del árbol inicial**.\n",
        "\n",
        "4. **Combinación:** Se **combinan las predicciones del nuevo árbol** con las del árbol inicial. La forma de combinarlas depende del algoritmo específico de gradient boosting utilizado, pero generalmente se utiliza una **ponderación** que refleja la importancia de cada árbol.\n",
        "\n",
        "5. **Repetición:** Se repiten los pasos 2 a 4, **entrenando un nuevo árbol de decisión** y combinándolo con los anteriores, hasta que se alcanza el número máximo de árboles o se cumple un criterio de parada.\n",
        "\n",
        "**¿Qué ventajas tienen los modelos de gradient boosting?**\n",
        "\n",
        "* **Precisión:** Los modelos de gradient boosting pueden ser **muy precisos**, especialmente cuando se utilizan con conjuntos de datos grandes y complejos.\n",
        "* **Robustez:** Son **robustos a los outliers** y al **ruido** en los datos.\n",
        "* **Versatilidad:** Se pueden utilizar para una **amplia variedad de tareas de aprendizaje automático**, como regresión, clasificación y problemas de ranking.\n",
        "\n",
        "**¿Qué desventajas tienen los modelos de gradient boosting?**\n",
        "\n",
        "* **Sobreajuste:** Si no se tiene cuidado, los modelos de gradient boosting pueden **sobreajustarse** a los datos de entrenamiento, lo que significa que no se generalizan bien a nuevos datos.\n",
        "* **Computación:** Entrenar un modelo de gradient boosting puede ser **computacionalmente costoso**, especialmente cuando se utilizan conjuntos de datos grandes o un gran número de árboles.\n",
        "\n"
      ],
      "metadata": {
        "id": "K0-lDPcb4uZX"
      }
    },
    {
      "cell_type": "markdown",
      "source": [
        "En un modelo de **gradient boosting** se pueden ajustar varios **hiperparámetros** para optimizar su rendimiento. Además de los ya vistos en los árboles de decisión y los bosques aleatorios, estos hiperparámetros adicionales se pueden sintonizar:\n",
        "\n",
        "* **learning_rate:** Controla el tamaño del paso que se da en la dirección del gradiente durante el entrenamiento. Un valor grande puede conducir a un entrenamiento más rápido, pero también puede aumentar el riesgo de sobreajuste.\n",
        "* **Función de pérdida (loss):** Define la forma en que se mide el error del modelo. La función de pérdida más común para el gradient boosting es la **función de pérdida cuadrática** para problemas de regresión y la **función de pérdida logarítmica** para problemas de clasificación.\n",
        "* **Criterio de parada (n_iter_no_change, validation_fraction y tol):** Determina cuándo se detiene el entrenamiento del modelo. Se pueden utilizar diferentes criterios como un cierto nivel de precisión o una mejora mínima en la precisión.\n",
        "\n",
        "Vamos a entrenar un modelo de *gradient boosting* sintonizando algunos de estos hiperparámetros:"
      ],
      "metadata": {
        "id": "BQW5aho06k-s"
      }
    },
    {
      "cell_type": "code",
      "source": [
        "from sklearn.model_selection import train_test_split\n",
        "\n",
        "df_dropna = df.dropna()\n",
        "X = df_dropna.drop(columns=['origin'])\n",
        "y = df_dropna['origin']\n",
        "X_train, X_test, y_train, y_test = train_test_split(X, y, test_size=0.3, random_state=1, stratify=y)\n",
        "print('Train:', X_train.shape, y_train.shape)\n",
        "print('Test:',  X_test.shape, y_test.shape)"
      ],
      "metadata": {
        "colab": {
          "base_uri": "https://localhost:8080/"
        },
        "id": "Ix9hENW6czx9",
        "outputId": "e81bcad5-99fe-4469-dcbc-b351937fde0c"
      },
      "execution_count": null,
      "outputs": [
        {
          "output_type": "stream",
          "name": "stdout",
          "text": [
            "Train: (274, 7) (274,)\n",
            "Test: (118, 7) (118,)\n"
          ]
        }
      ]
    },
    {
      "cell_type": "code",
      "execution_count": null,
      "metadata": {
        "colab": {
          "base_uri": "https://localhost:8080/"
        },
        "id": "qW7oVjESSgKJ",
        "outputId": "31ad7ff3-dea3-4a4d-fa51-90b729a605f0"
      },
      "outputs": [
        {
          "output_type": "stream",
          "name": "stdout",
          "text": [
            "Best score: 0.807 with {'learning_rate': 0.33574626121053397, 'max_depth': 4, 'min_samples_split': 4, 'n_estimators': 192}\n",
            "Test score: 0.869\n"
          ]
        }
      ],
      "source": [
        "from sklearn.model_selection import RandomizedSearchCV\n",
        "from sklearn.ensemble import GradientBoostingClassifier\n",
        "from sklearn.metrics import f1_score\n",
        "from scipy.stats import uniform\n",
        "\n",
        "gb_model = GradientBoostingClassifier(n_iter_no_change=5)\n",
        "dist = {'n_estimators':range(1, 201), 'max_depth':range(1,10), 'learning_rate':uniform(0,1), 'min_samples_split':range(2,5)}\n",
        "grid_search = RandomizedSearchCV(estimator=gb_model, param_distributions=dist, cv=5, random_state=77, scoring='f1_weighted')\n",
        "grid_search.fit(X_train, y_train)\n",
        "\n",
        "test_score = f1_score(y_test, grid_search.predict(X_test), average='weighted')\n",
        "print(f'Best score: {grid_search.best_score_:.3f} with {grid_search.best_params_}')\n",
        "print(f'Test score: {test_score:.3f}')"
      ]
    },
    {
      "cell_type": "code",
      "execution_count": null,
      "metadata": {
        "colab": {
          "base_uri": "https://localhost:8080/"
        },
        "id": "WarHuIT5SgKK",
        "outputId": "5ae05fec-07f8-4b01-96d7-736c4b519db8"
      },
      "outputs": [
        {
          "output_type": "stream",
          "name": "stdout",
          "text": [
            "              precision    recall  f1-score   support\n",
            "\n",
            "           1       0.89      0.96      0.92        74\n",
            "           2       0.87      0.65      0.74        20\n",
            "           3       0.83      0.79      0.81        24\n",
            "\n",
            "    accuracy                           0.87       118\n",
            "   macro avg       0.86      0.80      0.82       118\n",
            "weighted avg       0.87      0.87      0.87       118\n",
            "\n"
          ]
        }
      ],
      "source": [
        "from sklearn.metrics import classification_report\n",
        "print(classification_report(y_test, grid_search.best_estimator_.predict(X_test)))"
      ]
    },
    {
      "cell_type": "code",
      "execution_count": null,
      "metadata": {
        "colab": {
          "base_uri": "https://localhost:8080/",
          "height": 450
        },
        "id": "jlDGHBEmSgKL",
        "outputId": "241971a4-a221-412e-e0ad-574a3c15c0b1"
      },
      "outputs": [
        {
          "output_type": "display_data",
          "data": {
            "text/plain": [
              "<Figure size 640x480 with 2 Axes>"
            ],
            "image/png": "[encoded data removed]"
          },
          "metadata": {}
        }
      ],
      "source": [
        "from sklearn.metrics import ConfusionMatrixDisplay\n",
        "ConfusionMatrixDisplay.from_estimator(grid_search.best_estimator_, X_test, y_test);"
      ]
    },
    {
      "cell_type": "markdown",
      "source": [
        "Estos modelos también entregan la importancia relativa de cada característica en el modelo:"
      ],
      "metadata": {
        "id": "kY0KEyjvAX_Q"
      }
    },
    {
      "cell_type": "code",
      "execution_count": null,
      "metadata": {
        "colab": {
          "base_uri": "https://localhost:8080/",
          "height": 269
        },
        "id": "2hXFUcvXSgKL",
        "outputId": "5e672515-7c41-4a6e-8968-c9b7b7c23493"
      },
      "outputs": [
        {
          "output_type": "execute_result",
          "data": {
            "text/plain": [
              "        Feature  Importance\n",
              "2  displacement    0.530818\n",
              "3    horsepower    0.142544\n",
              "5  acceleration    0.120259\n",
              "4        weight    0.085473\n",
              "0           mpg    0.073511\n",
              "6    model year    0.037358\n",
              "1     cylinders    0.010037"
            ],
            "text/html": [
              "\n",
              "  <div id=\"df-669b9860-fc37-4737-bfdc-45ec0ee13c49\" class=\"colab-df-container\">\n",
              "    <div>\n",
              "<style scoped>\n",
              "    .dataframe tbody tr th:only-of-type {\n",
              "        vertical-align: middle;\n",
              "    }\n",
              "\n",
              "    .dataframe tbody tr th {\n",
              "        vertical-align: top;\n",
              "    }\n",
              "\n",
              "    .dataframe thead th {\n",
              "        text-align: right;\n",
              "    }\n",
              "</style>\n",
              "<table border=\"1\" class=\"dataframe\">\n",
              "  <thead>\n",
              "    <tr style=\"text-align: right;\">\n",
              "      <th></th>\n",
              "      <th>Feature</th>\n",
              "      <th>Importance</th>\n",
              "    </tr>\n",
              "  </thead>\n",
              "  <tbody>\n",
              "    <tr>\n",
              "      <th>2</th>\n",
              "      <td>displacement</td>\n",
              "      <td>0.530818</td>\n",
              "    </tr>\n",
              "    <tr>\n",
              "      <th>3</th>\n",
              "      <td>horsepower</td>\n",
              "      <td>0.142544</td>\n",
              "    </tr>\n",
              "    <tr>\n",
              "      <th>5</th>\n",
              "      <td>acceleration</td>\n",
              "      <td>0.120259</td>\n",
              "    </tr>\n",
              "    <tr>\n",
              "      <th>4</th>\n",
              "      <td>weight</td>\n",
              "      <td>0.085473</td>\n",
              "    </tr>\n",
              "    <tr>\n",
              "      <th>0</th>\n",
              "      <td>mpg</td>\n",
              "      <td>0.073511</td>\n",
              "    </tr>\n",
              "    <tr>\n",
              "      <th>6</th>\n",
              "      <td>model year</td>\n",
              "      <td>0.037358</td>\n",
              "    </tr>\n",
              "    <tr>\n",
              "      <th>1</th>\n",
              "      <td>cylinders</td>\n",
              "      <td>0.010037</td>\n",
              "    </tr>\n",
              "  </tbody>\n",
              "</table>\n",
              "</div>\n",
              "    <div class=\"colab-df-buttons\">\n",
              "\n",
              "  <div class=\"colab-df-container\">\n",
              "    <button class=\"colab-df-convert\" onclick=\"convertToInteractive('df-669b9860-fc37-4737-bfdc-45ec0ee13c49')\"\n",
              "            title=\"Convert this dataframe to an interactive table.\"\n",
              "            style=\"display:none;\">\n",
              "\n",
              "  <svg xmlns=\"http://www.w3.org/2000/svg\" height=\"24px\" viewBox=\"0 -960 960 960\">\n",
              "    <path d=\"M120-120v-720h720v720H120Zm60-500h600v-160H180v160Zm220 220h160v-160H400v160Zm0 220h160v-160H400v160ZM180-400h160v-160H180v160Zm440 0h160v-160H620v160ZM180-180h160v-160H180v160Zm440 0h160v-160H620v160Z\"/>\n",
              "  </svg>\n",
              "    </button>\n",
              "\n",
              "  <style>\n",
              "    .colab-df-container {\n",
              "      display:flex;\n",
              "      gap: 12px;\n",
              "    }\n",
              "\n",
              "    .colab-df-convert {\n",
              "      background-color: #E8F0FE;\n",
              "      border: none;\n",
              "      border-radius: 50%;\n",
              "      cursor: pointer;\n",
              "      display: none;\n",
              "      fill: #1967D2;\n",
              "      height: 32px;\n",
              "      padding: 0 0 0 0;\n",
              "      width: 32px;\n",
              "    }\n",
              "\n",
              "    .colab-df-convert:hover {\n",
              "      background-color: #E2EBFA;\n",
              "      box-shadow: 0px 1px 2px rgba(60, 64, 67, 0.3), 0px 1px 3px 1px rgba(60, 64, 67, 0.15);\n",
              "      fill: #174EA6;\n",
              "    }\n",
              "\n",
              "    .colab-df-buttons div {\n",
              "      margin-bottom: 4px;\n",
              "    }\n",
              "\n",
              "    [theme=dark] .colab-df-convert {\n",
              "      background-color: #3B4455;\n",
              "      fill: #D2E3FC;\n",
              "    }\n",
              "\n",
              "    [theme=dark] .colab-df-convert:hover {\n",
              "      background-color: #434B5C;\n",
              "      box-shadow: 0px 1px 3px 1px rgba(0, 0, 0, 0.15);\n",
              "      filter: drop-shadow(0px 1px 2px rgba(0, 0, 0, 0.3));\n",
              "      fill: #FFFFFF;\n",
              "    }\n",
              "  </style>\n",
              "\n",
              "    <script>\n",
              "      const buttonEl =\n",
              "        document.querySelector('#df-669b9860-fc37-4737-bfdc-45ec0ee13c49 button.colab-df-convert');\n",
              "      buttonEl.style.display =\n",
              "        google.colab.kernel.accessAllowed ? 'block' : 'none';\n",
              "\n",
              "      async function convertToInteractive(key) {\n",
              "        const element = document.querySelector('#df-669b9860-fc37-4737-bfdc-45ec0ee13c49');\n",
              "        const dataTable =\n",
              "          await google.colab.kernel.invokeFunction('convertToInteractive',\n",
              "                                                    [key], {});\n",
              "        if (!dataTable) return;\n",
              "\n",
              "        const docLinkHtml = 'Like what you see? Visit the ' +\n",
              "          '<a target=\"_blank\" href=https://colab.research.google.com/notebooks/data_table.ipynb>data table notebook</a>'\n",
              "          + ' to learn more about interactive tables.';\n",
              "        element.innerHTML = '';\n",
              "        dataTable['output_type'] = 'display_data';\n",
              "        await google.colab.output.renderOutput(dataTable, element);\n",
              "        const docLink = document.createElement('div');\n",
              "        docLink.innerHTML = docLinkHtml;\n",
              "        element.appendChild(docLink);\n",
              "      }\n",
              "    </script>\n",
              "  </div>\n",
              "\n",
              "\n",
              "<div id=\"df-4a44a1e6-1b74-4e38-8ec2-a9f81e0d48e1\">\n",
              "  <button class=\"colab-df-quickchart\" onclick=\"quickchart('df-4a44a1e6-1b74-4e38-8ec2-a9f81e0d48e1')\"\n",
              "            title=\"Suggest charts\"\n",
              "            style=\"display:none;\">\n",
              "\n",
              "<svg xmlns=\"http://www.w3.org/2000/svg\" height=\"24px\"viewBox=\"0 0 24 24\"\n",
              "     width=\"24px\">\n",
              "    <g>\n",
              "        <path d=\"M19 3H5c-1.1 0-2 .9-2 2v14c0 1.1.9 2 2 2h14c1.1 0 2-.9 2-2V5c0-1.1-.9-2-2-2zM9 17H7v-7h2v7zm4 0h-2V7h2v10zm4 0h-2v-4h2v4z\"/>\n",
              "    </g>\n",
              "</svg>\n",
              "  </button>\n",
              "\n",
              "<style>\n",
              "  .colab-df-quickchart {\n",
              "      --bg-color: #E8F0FE;\n",
              "      --fill-color: #1967D2;\n",
              "      --hover-bg-color: #E2EBFA;\n",
              "      --hover-fill-color: #174EA6;\n",
              "      --disabled-fill-color: #AAA;\n",
              "      --disabled-bg-color: #DDD;\n",
              "  }\n",
              "\n",
              "  [theme=dark] .colab-df-quickchart {\n",
              "      --bg-color: #3B4455;\n",
              "      --fill-color: #D2E3FC;\n",
              "      --hover-bg-color: #434B5C;\n",
              "      --hover-fill-color: #FFFFFF;\n",
              "      --disabled-bg-color: #3B4455;\n",
              "      --disabled-fill-color: #666;\n",
              "  }\n",
              "\n",
              "  .colab-df-quickchart {\n",
              "    background-color: var(--bg-color);\n",
              "    border: none;\n",
              "    border-radius: 50%;\n",
              "    cursor: pointer;\n",
              "    display: none;\n",
              "    fill: var(--fill-color);\n",
              "    height: 32px;\n",
              "    padding: 0;\n",
              "    width: 32px;\n",
              "  }\n",
              "\n",
              "  .colab-df-quickchart:hover {\n",
              "    background-color: var(--hover-bg-color);\n",
              "    box-shadow: 0 1px 2px rgba(60, 64, 67, 0.3), 0 1px 3px 1px rgba(60, 64, 67, 0.15);\n",
              "    fill: var(--button-hover-fill-color);\n",
              "  }\n",
              "\n",
              "  .colab-df-quickchart-complete:disabled,\n",
              "  .colab-df-quickchart-complete:disabled:hover {\n",
              "    background-color: var(--disabled-bg-color);\n",
              "    fill: var(--disabled-fill-color);\n",
              "    box-shadow: none;\n",
              "  }\n",
              "\n",
              "  .colab-df-spinner {\n",
              "    border: 2px solid var(--fill-color);\n",
              "    border-color: transparent;\n",
              "    border-bottom-color: var(--fill-color);\n",
              "    animation:\n",
              "      spin 1s steps(1) infinite;\n",
              "  }\n",
              "\n",
              "  @keyframes spin {\n",
              "    0% {\n",
              "      border-color: transparent;\n",
              "      border-bottom-color: var(--fill-color);\n",
              "      border-left-color: var(--fill-color);\n",
              "    }\n",
              "    20% {\n",
              "      border-color: transparent;\n",
              "      border-left-color: var(--fill-color);\n",
              "      border-top-color: var(--fill-color);\n",
              "    }\n",
              "    30% {\n",
              "      border-color: transparent;\n",
              "      border-left-color: var(--fill-color);\n",
              "      border-top-color: var(--fill-color);\n",
              "      border-right-color: var(--fill-color);\n",
              "    }\n",
              "    40% {\n",
              "      border-color: transparent;\n",
              "      border-right-color: var(--fill-color);\n",
              "      border-top-color: var(--fill-color);\n",
              "    }\n",
              "    60% {\n",
              "      border-color: transparent;\n",
              "      border-right-color: var(--fill-color);\n",
              "    }\n",
              "    80% {\n",
              "      border-color: transparent;\n",
              "      border-right-color: var(--fill-color);\n",
              "      border-bottom-color: var(--fill-color);\n",
              "    }\n",
              "    90% {\n",
              "      border-color: transparent;\n",
              "      border-bottom-color: var(--fill-color);\n",
              "    }\n",
              "  }\n",
              "</style>\n",
              "\n",
              "  <script>\n",
              "    async function quickchart(key) {\n",
              "      const quickchartButtonEl =\n",
              "        document.querySelector('#' + key + ' button');\n",
              "      quickchartButtonEl.disabled = true;  // To prevent multiple clicks.\n",
              "      quickchartButtonEl.classList.add('colab-df-spinner');\n",
              "      try {\n",
              "        const charts = await google.colab.kernel.invokeFunction(\n",
              "            'suggestCharts', [key], {});\n",
              "      } catch (error) {\n",
              "        console.error('Error during call to suggestCharts:', error);\n",
              "      }\n",
              "      quickchartButtonEl.classList.remove('colab-df-spinner');\n",
              "      quickchartButtonEl.classList.add('colab-df-quickchart-complete');\n",
              "    }\n",
              "    (() => {\n",
              "      let quickchartButtonEl =\n",
              "        document.querySelector('#df-4a44a1e6-1b74-4e38-8ec2-a9f81e0d48e1 button');\n",
              "      quickchartButtonEl.style.display =\n",
              "        google.colab.kernel.accessAllowed ? 'block' : 'none';\n",
              "    })();\n",
              "  </script>\n",
              "</div>\n",
              "\n",
              "    </div>\n",
              "  </div>\n"
            ],
            "application/vnd.google.colaboratory.intrinsic+json": {
              "type": "dataframe",
              "summary": "{\n  \"name\": \"gb_features\",\n  \"rows\": 7,\n  \"fields\": [\n    {\n      \"column\": \"Feature\",\n      \"properties\": {\n        \"dtype\": \"string\",\n        \"num_unique_values\": 7,\n        \"samples\": [\n          \"displacement\",\n          \"horsepower\",\n          \"model year\"\n        ],\n        \"semantic_type\": \"\",\n        \"description\": \"\"\n      }\n    },\n    {\n      \"column\": \"Importance\",\n      \"properties\": {\n        \"dtype\": \"number\",\n        \"std\": 0.17696388895732837,\n        \"min\": 0.010036809121174911,\n        \"max\": 0.5308177747442117,\n        \"num_unique_values\": 7,\n        \"samples\": [\n          0.5308177747442117,\n          0.1425437612134116,\n          0.03735786945389544\n        ],\n        \"semantic_type\": \"\",\n        \"description\": \"\"\n      }\n    }\n  ]\n}"
            }
          },
          "metadata": {},
          "execution_count": 29
        }
      ],
      "source": [
        "gb_features = pd.DataFrame({'Feature': X.columns, 'Importance': grid_search.best_estimator_.feature_importances_})\n",
        "gb_features.sort_values('Importance', ascending=False)"
      ]
    },
    {
      "cell_type": "markdown",
      "metadata": {
        "id": "UrIXqPMQSgJs"
      },
      "source": [
        "# Modelos de regresión"
      ]
    },
    {
      "cell_type": "code",
      "execution_count": null,
      "metadata": {
        "colab": {
          "base_uri": "https://localhost:8080/"
        },
        "id": "PAicykNQypvn",
        "outputId": "4d99ecd1-1e6c-4f08-b0e9-0a484b1d7036"
      },
      "outputs": [
        {
          "output_type": "stream",
          "name": "stdout",
          "text": [
            "Train: (274, 7) (274,)\n",
            "Test: (118, 7) (118,)\n"
          ]
        }
      ],
      "source": [
        "from sklearn.model_selection import train_test_split\n",
        "\n",
        "df_dropna = df.dropna()\n",
        "X = df_dropna.drop(columns=['mpg'])\n",
        "y = df_dropna['mpg']\n",
        "X_train, X_test, y_train, y_test = train_test_split(X, y, test_size=0.3, random_state=1)\n",
        "print('Train:', X_train.shape, y_train.shape)\n",
        "print('Test:',  X_test.shape, y_test.shape)"
      ]
    },
    {
      "cell_type": "code",
      "execution_count": null,
      "metadata": {
        "colab": {
          "base_uri": "https://localhost:8080/"
        },
        "id": "7DHhwI7sSgJu",
        "outputId": "6d01b4c6-306e-4f59-eac5-fa7dd960f713"
      },
      "outputs": [
        {
          "output_type": "stream",
          "name": "stdout",
          "text": [
            "Best score: 3.03 with {'model__alpha': 0.3638829446878262}\n",
            "Test score: 3.03\n"
          ]
        }
      ],
      "source": [
        "from sklearn.pipeline import Pipeline\n",
        "from sklearn.compose import ColumnTransformer\n",
        "from sklearn.preprocessing import OneHotEncoder, OrdinalEncoder, StandardScaler, PolynomialFeatures\n",
        "from sklearn.metrics import root_mean_squared_error\n",
        "from sklearn.model_selection import RandomizedSearchCV\n",
        "from scipy.stats import loguniform\n",
        "from sklearn.linear_model import Ridge\n",
        "\n",
        "num_vars = ['displacement', 'horsepower', 'weight', 'acceleration'] # Se definen las variables numéricas\n",
        "ohe = OneHotEncoder(sparse_output=False, drop='first')\n",
        "oe_cyl = OrdinalEncoder(categories=[[3., 4., 5., 6., 8.]])\n",
        "oe_my = OrdinalEncoder(categories=[[70., 71., 72., 73., 74., 75., 76., 77., 78., 79., 80., 81., 82.]])\n",
        "poly = PolynomialFeatures(degree=2)\n",
        "ss = StandardScaler()\n",
        "pre_num = Pipeline(steps=[('poly', poly), ('ss', ss)])\n",
        "\n",
        "preprocessor = ColumnTransformer(transformers=[('ohe', ohe, ['origin']), # Codificacióp OneHot para la variable 'origin'\n",
        "                                               ('oe_cylinders', oe_cyl, ['cylinders']), # Codificación ordinal para la variable 'cylinders'\n",
        "                                               ('oe_model_year', oe_my, ['model year']), # Codificación ordinal para la variable 'model_year'\n",
        "                                               ('pre_num', pre_num, num_vars)], # Prepocesamiento de las variables numéricas\n",
        "                                               remainder='drop') # El resto de las columnas se mantienen sin cambios\n",
        "\n",
        "pipe = Pipeline([('preprocessor', preprocessor), ('model', Ridge())])\n",
        "dist = {'model__alpha':loguniform(1e-4, 1e2)}\n",
        "\n",
        "grid_search = RandomizedSearchCV(estimator=pipe, cv=5, param_distributions=dist, scoring='neg_root_mean_squared_error')\n",
        "grid_search.fit(X_train, y_train)\n",
        "\n",
        "test_score = root_mean_squared_error(y_test, grid_search.predict(X_test))\n",
        "print(f'Best score: {-grid_search.best_score_:.2f} with {grid_search.best_params_}')\n",
        "print(f'Test score: {test_score:.2f}')"
      ]
    },
    {
      "cell_type": "code",
      "source": [
        "from sklearn.model_selection import train_test_split\n",
        "\n",
        "X = df.drop(columns=['mpg'])\n",
        "y = df['mpg']\n",
        "X_train, X_test, y_train, y_test = train_test_split(X, y, test_size=0.3, random_state=1)\n",
        "print('Train:', X_train.shape, y_train.shape)\n",
        "print('Test:',  X_test.shape, y_test.shape)"
      ],
      "metadata": {
        "colab": {
          "base_uri": "https://localhost:8080/"
        },
        "id": "gjCAl0fxhBun",
        "outputId": "d09d8d8d-c0a7-4c3e-9ea7-320a83b169ba"
      },
      "execution_count": null,
      "outputs": [
        {
          "output_type": "stream",
          "name": "stdout",
          "text": [
            "Train: (278, 7) (278,)\n",
            "Test: (120, 7) (120,)\n"
          ]
        }
      ]
    },
    {
      "cell_type": "code",
      "execution_count": null,
      "metadata": {
        "colab": {
          "base_uri": "https://localhost:8080/"
        },
        "id": "_7MdTyWKSgJv",
        "outputId": "f321e8e4-eb87-4d01-cfbc-03b06c795f88"
      },
      "outputs": [
        {
          "output_type": "stream",
          "name": "stdout",
          "text": [
            "Best score: 3.68 with {'ccp_alpha': 0.8035198899600081}\n",
            "Test score: 3.59\n"
          ]
        }
      ],
      "source": [
        "from sklearn.model_selection import RandomizedSearchCV\n",
        "from scipy.stats import loguniform\n",
        "from sklearn.tree import DecisionTreeRegressor\n",
        "from sklearn.metrics import root_mean_squared_error\n",
        "\n",
        "dist = {'ccp_alpha':loguniform(1e-3, 1e2)}\n",
        "grid_search = RandomizedSearchCV(estimator=DecisionTreeRegressor(), cv=5, param_distributions=dist, scoring='neg_root_mean_squared_error')\n",
        "grid_search.fit(X_train, y_train)\n",
        "\n",
        "test_score = root_mean_squared_error(y_test, grid_search.predict(X_test))\n",
        "print(f'Best score: {-grid_search.best_score_:.2f} with {grid_search.best_params_}')\n",
        "print(f'Test score: {test_score:.2f}')"
      ]
    },
    {
      "cell_type": "markdown",
      "metadata": {
        "id": "cChvTxFuIq4v"
      },
      "source": [
        "## Regresor bagging"
      ]
    },
    {
      "cell_type": "code",
      "execution_count": null,
      "metadata": {
        "colab": {
          "base_uri": "https://localhost:8080/"
        },
        "id": "sxsxaGpqypwH",
        "outputId": "db969640-ac47-4a37-c4aa-9c5dc77a8524"
      },
      "outputs": [
        {
          "output_type": "stream",
          "name": "stdout",
          "text": [
            "Best score: 2.81 with {'n_estimators': 171}\n",
            "Test score: 2.73\n"
          ]
        }
      ],
      "source": [
        "from sklearn.ensemble import BaggingRegressor\n",
        "from sklearn.tree import DecisionTreeRegressor\n",
        "from sklearn.metrics import root_mean_squared_error\n",
        "from sklearn.model_selection import RandomizedSearchCV\n",
        "\n",
        "bag_model = BaggingRegressor(estimator=DecisionTreeRegressor())\n",
        "\n",
        "dist = {'n_estimators':range(1, 201)}\n",
        "grid_search = RandomizedSearchCV(estimator=bag_model, param_distributions=dist, cv=5, random_state=77, scoring='neg_root_mean_squared_error')\n",
        "grid_search.fit(X_train, y_train)\n",
        "test_score = root_mean_squared_error(y_test, grid_search.predict(X_test))\n",
        "print(f'Best score: {-grid_search.best_score_:.2f} with {grid_search.best_params_}')\n",
        "print(f'Test score: {test_score:.2f}')"
      ]
    },
    {
      "cell_type": "markdown",
      "metadata": {
        "id": "0ehgyoZL5Bn7"
      },
      "source": [
        "## Random Forest\n"
      ]
    },
    {
      "cell_type": "code",
      "execution_count": null,
      "metadata": {
        "colab": {
          "base_uri": "https://localhost:8080/"
        },
        "id": "-iQtOdgNypw8",
        "outputId": "04f24814-9c27-4875-cb33-43f01505a02b"
      },
      "outputs": [
        {
          "output_type": "stream",
          "name": "stdout",
          "text": [
            "Best score: 2.82 with {'n_estimators': 114, 'min_samples_split': 4, 'max_depth': 7}\n",
            "Test score: 2.73\n"
          ]
        }
      ],
      "source": [
        "from sklearn.model_selection import RandomizedSearchCV\n",
        "from sklearn.ensemble import RandomForestRegressor\n",
        "from sklearn.metrics import root_mean_squared_error\n",
        "from scipy.stats import loguniform\n",
        "\n",
        "rf_model = RandomForestRegressor()\n",
        "dist = {'n_estimators':range(1, 201), 'max_depth':range(2,10), 'min_samples_split':range(2,5)}\n",
        "grid_search = RandomizedSearchCV(estimator=rf_model, param_distributions=dist, cv=5, random_state=77, scoring='neg_root_mean_squared_error')\n",
        "grid_search.fit(X_train, y_train)\n",
        "test_score = root_mean_squared_error(y_test, grid_search.predict(X_test))\n",
        "print(f'Best score: {-grid_search.best_score_:.2f} with {grid_search.best_params_}')\n",
        "print(f'Test score: {test_score:.2f}')"
      ]
    },
    {
      "cell_type": "code",
      "execution_count": null,
      "metadata": {
        "colab": {
          "base_uri": "https://localhost:8080/",
          "height": 269
        },
        "id": "b-VEa9I6SgJ2",
        "outputId": "b7872d45-0a80-4e89-f422-f451da04a261"
      },
      "outputs": [
        {
          "output_type": "execute_result",
          "data": {
            "text/plain": [
              "        Feature  Importance\n",
              "3        weight    0.378081\n",
              "0     cylinders    0.207181\n",
              "5    model year    0.140076\n",
              "1  displacement    0.125213\n",
              "2    horsepower    0.119637\n",
              "4  acceleration    0.024432\n",
              "6        origin    0.005379"
            ],
            "text/html": [
              "\n",
              "  <div id=\"df-62ce6105-0566-4108-be05-2cd21320a0bf\" class=\"colab-df-container\">\n",
              "    <div>\n",
              "<style scoped>\n",
              "    .dataframe tbody tr th:only-of-type {\n",
              "        vertical-align: middle;\n",
              "    }\n",
              "\n",
              "    .dataframe tbody tr th {\n",
              "        vertical-align: top;\n",
              "    }\n",
              "\n",
              "    .dataframe thead th {\n",
              "        text-align: right;\n",
              "    }\n",
              "</style>\n",
              "<table border=\"1\" class=\"dataframe\">\n",
              "  <thead>\n",
              "    <tr style=\"text-align: right;\">\n",
              "      <th></th>\n",
              "      <th>Feature</th>\n",
              "      <th>Importance</th>\n",
              "    </tr>\n",
              "  </thead>\n",
              "  <tbody>\n",
              "    <tr>\n",
              "      <th>3</th>\n",
              "      <td>weight</td>\n",
              "      <td>0.378081</td>\n",
              "    </tr>\n",
              "    <tr>\n",
              "      <th>0</th>\n",
              "      <td>cylinders</td>\n",
              "      <td>0.207181</td>\n",
              "    </tr>\n",
              "    <tr>\n",
              "      <th>5</th>\n",
              "      <td>model year</td>\n",
              "      <td>0.140076</td>\n",
              "    </tr>\n",
              "    <tr>\n",
              "      <th>1</th>\n",
              "      <td>displacement</td>\n",
              "      <td>0.125213</td>\n",
              "    </tr>\n",
              "    <tr>\n",
              "      <th>2</th>\n",
              "      <td>horsepower</td>\n",
              "      <td>0.119637</td>\n",
              "    </tr>\n",
              "    <tr>\n",
              "      <th>4</th>\n",
              "      <td>acceleration</td>\n",
              "      <td>0.024432</td>\n",
              "    </tr>\n",
              "    <tr>\n",
              "      <th>6</th>\n",
              "      <td>origin</td>\n",
              "      <td>0.005379</td>\n",
              "    </tr>\n",
              "  </tbody>\n",
              "</table>\n",
              "</div>\n",
              "    <div class=\"colab-df-buttons\">\n",
              "\n",
              "  <div class=\"colab-df-container\">\n",
              "    <button class=\"colab-df-convert\" onclick=\"convertToInteractive('df-62ce6105-0566-4108-be05-2cd21320a0bf')\"\n",
              "            title=\"Convert this dataframe to an interactive table.\"\n",
              "            style=\"display:none;\">\n",
              "\n",
              "  <svg xmlns=\"http://www.w3.org/2000/svg\" height=\"24px\" viewBox=\"0 -960 960 960\">\n",
              "    <path d=\"M120-120v-720h720v720H120Zm60-500h600v-160H180v160Zm220 220h160v-160H400v160Zm0 220h160v-160H400v160ZM180-400h160v-160H180v160Zm440 0h160v-160H620v160ZM180-180h160v-160H180v160Zm440 0h160v-160H620v160Z\"/>\n",
              "  </svg>\n",
              "    </button>\n",
              "\n",
              "  <style>\n",
              "    .colab-df-container {\n",
              "      display:flex;\n",
              "      gap: 12px;\n",
              "    }\n",
              "\n",
              "    .colab-df-convert {\n",
              "      background-color: #E8F0FE;\n",
              "      border: none;\n",
              "      border-radius: 50%;\n",
              "      cursor: pointer;\n",
              "      display: none;\n",
              "      fill: #1967D2;\n",
              "      height: 32px;\n",
              "      padding: 0 0 0 0;\n",
              "      width: 32px;\n",
              "    }\n",
              "\n",
              "    .colab-df-convert:hover {\n",
              "      background-color: #E2EBFA;\n",
              "      box-shadow: 0px 1px 2px rgba(60, 64, 67, 0.3), 0px 1px 3px 1px rgba(60, 64, 67, 0.15);\n",
              "      fill: #174EA6;\n",
              "    }\n",
              "\n",
              "    .colab-df-buttons div {\n",
              "      margin-bottom: 4px;\n",
              "    }\n",
              "\n",
              "    [theme=dark] .colab-df-convert {\n",
              "      background-color: #3B4455;\n",
              "      fill: #D2E3FC;\n",
              "    }\n",
              "\n",
              "    [theme=dark] .colab-df-convert:hover {\n",
              "      background-color: #434B5C;\n",
              "      box-shadow: 0px 1px 3px 1px rgba(0, 0, 0, 0.15);\n",
              "      filter: drop-shadow(0px 1px 2px rgba(0, 0, 0, 0.3));\n",
              "      fill: #FFFFFF;\n",
              "    }\n",
              "  </style>\n",
              "\n",
              "    <script>\n",
              "      const buttonEl =\n",
              "        document.querySelector('#df-62ce6105-0566-4108-be05-2cd21320a0bf button.colab-df-convert');\n",
              "      buttonEl.style.display =\n",
              "        google.colab.kernel.accessAllowed ? 'block' : 'none';\n",
              "\n",
              "      async function convertToInteractive(key) {\n",
              "        const element = document.querySelector('#df-62ce6105-0566-4108-be05-2cd21320a0bf');\n",
              "        const dataTable =\n",
              "          await google.colab.kernel.invokeFunction('convertToInteractive',\n",
              "                                                    [key], {});\n",
              "        if (!dataTable) return;\n",
              "\n",
              "        const docLinkHtml = 'Like what you see? Visit the ' +\n",
              "          '<a target=\"_blank\" href=https://colab.research.google.com/notebooks/data_table.ipynb>data table notebook</a>'\n",
              "          + ' to learn more about interactive tables.';\n",
              "        element.innerHTML = '';\n",
              "        dataTable['output_type'] = 'display_data';\n",
              "        await google.colab.output.renderOutput(dataTable, element);\n",
              "        const docLink = document.createElement('div');\n",
              "        docLink.innerHTML = docLinkHtml;\n",
              "        element.appendChild(docLink);\n",
              "      }\n",
              "    </script>\n",
              "  </div>\n",
              "\n",
              "\n",
              "<div id=\"df-0fea5745-6a97-4f5a-8ded-4986b411a3d6\">\n",
              "  <button class=\"colab-df-quickchart\" onclick=\"quickchart('df-0fea5745-6a97-4f5a-8ded-4986b411a3d6')\"\n",
              "            title=\"Suggest charts\"\n",
              "            style=\"display:none;\">\n",
              "\n",
              "<svg xmlns=\"http://www.w3.org/2000/svg\" height=\"24px\"viewBox=\"0 0 24 24\"\n",
              "     width=\"24px\">\n",
              "    <g>\n",
              "        <path d=\"M19 3H5c-1.1 0-2 .9-2 2v14c0 1.1.9 2 2 2h14c1.1 0 2-.9 2-2V5c0-1.1-.9-2-2-2zM9 17H7v-7h2v7zm4 0h-2V7h2v10zm4 0h-2v-4h2v4z\"/>\n",
              "    </g>\n",
              "</svg>\n",
              "  </button>\n",
              "\n",
              "<style>\n",
              "  .colab-df-quickchart {\n",
              "      --bg-color: #E8F0FE;\n",
              "      --fill-color: #1967D2;\n",
              "      --hover-bg-color: #E2EBFA;\n",
              "      --hover-fill-color: #174EA6;\n",
              "      --disabled-fill-color: #AAA;\n",
              "      --disabled-bg-color: #DDD;\n",
              "  }\n",
              "\n",
              "  [theme=dark] .colab-df-quickchart {\n",
              "      --bg-color: #3B4455;\n",
              "      --fill-color: #D2E3FC;\n",
              "      --hover-bg-color: #434B5C;\n",
              "      --hover-fill-color: #FFFFFF;\n",
              "      --disabled-bg-color: #3B4455;\n",
              "      --disabled-fill-color: #666;\n",
              "  }\n",
              "\n",
              "  .colab-df-quickchart {\n",
              "    background-color: var(--bg-color);\n",
              "    border: none;\n",
              "    border-radius: 50%;\n",
              "    cursor: pointer;\n",
              "    display: none;\n",
              "    fill: var(--fill-color);\n",
              "    height: 32px;\n",
              "    padding: 0;\n",
              "    width: 32px;\n",
              "  }\n",
              "\n",
              "  .colab-df-quickchart:hover {\n",
              "    background-color: var(--hover-bg-color);\n",
              "    box-shadow: 0 1px 2px rgba(60, 64, 67, 0.3), 0 1px 3px 1px rgba(60, 64, 67, 0.15);\n",
              "    fill: var(--button-hover-fill-color);\n",
              "  }\n",
              "\n",
              "  .colab-df-quickchart-complete:disabled,\n",
              "  .colab-df-quickchart-complete:disabled:hover {\n",
              "    background-color: var(--disabled-bg-color);\n",
              "    fill: var(--disabled-fill-color);\n",
              "    box-shadow: none;\n",
              "  }\n",
              "\n",
              "  .colab-df-spinner {\n",
              "    border: 2px solid var(--fill-color);\n",
              "    border-color: transparent;\n",
              "    border-bottom-color: var(--fill-color);\n",
              "    animation:\n",
              "      spin 1s steps(1) infinite;\n",
              "  }\n",
              "\n",
              "  @keyframes spin {\n",
              "    0% {\n",
              "      border-color: transparent;\n",
              "      border-bottom-color: var(--fill-color);\n",
              "      border-left-color: var(--fill-color);\n",
              "    }\n",
              "    20% {\n",
              "      border-color: transparent;\n",
              "      border-left-color: var(--fill-color);\n",
              "      border-top-color: var(--fill-color);\n",
              "    }\n",
              "    30% {\n",
              "      border-color: transparent;\n",
              "      border-left-color: var(--fill-color);\n",
              "      border-top-color: var(--fill-color);\n",
              "      border-right-color: var(--fill-color);\n",
              "    }\n",
              "    40% {\n",
              "      border-color: transparent;\n",
              "      border-right-color: var(--fill-color);\n",
              "      border-top-color: var(--fill-color);\n",
              "    }\n",
              "    60% {\n",
              "      border-color: transparent;\n",
              "      border-right-color: var(--fill-color);\n",
              "    }\n",
              "    80% {\n",
              "      border-color: transparent;\n",
              "      border-right-color: var(--fill-color);\n",
              "      border-bottom-color: var(--fill-color);\n",
              "    }\n",
              "    90% {\n",
              "      border-color: transparent;\n",
              "      border-bottom-color: var(--fill-color);\n",
              "    }\n",
              "  }\n",
              "</style>\n",
              "\n",
              "  <script>\n",
              "    async function quickchart(key) {\n",
              "      const quickchartButtonEl =\n",
              "        document.querySelector('#' + key + ' button');\n",
              "      quickchartButtonEl.disabled = true;  // To prevent multiple clicks.\n",
              "      quickchartButtonEl.classList.add('colab-df-spinner');\n",
              "      try {\n",
              "        const charts = await google.colab.kernel.invokeFunction(\n",
              "            'suggestCharts', [key], {});\n",
              "      } catch (error) {\n",
              "        console.error('Error during call to suggestCharts:', error);\n",
              "      }\n",
              "      quickchartButtonEl.classList.remove('colab-df-spinner');\n",
              "      quickchartButtonEl.classList.add('colab-df-quickchart-complete');\n",
              "    }\n",
              "    (() => {\n",
              "      let quickchartButtonEl =\n",
              "        document.querySelector('#df-0fea5745-6a97-4f5a-8ded-4986b411a3d6 button');\n",
              "      quickchartButtonEl.style.display =\n",
              "        google.colab.kernel.accessAllowed ? 'block' : 'none';\n",
              "    })();\n",
              "  </script>\n",
              "</div>\n",
              "\n",
              "    </div>\n",
              "  </div>\n"
            ],
            "application/vnd.google.colaboratory.intrinsic+json": {
              "type": "dataframe",
              "summary": "{\n  \"name\": \"rf_features\",\n  \"rows\": 7,\n  \"fields\": [\n    {\n      \"column\": \"Feature\",\n      \"properties\": {\n        \"dtype\": \"string\",\n        \"num_unique_values\": 7,\n        \"samples\": [\n          \"weight\",\n          \"cylinders\",\n          \"acceleration\"\n        ],\n        \"semantic_type\": \"\",\n        \"description\": \"\"\n      }\n    },\n    {\n      \"column\": \"Importance\",\n      \"properties\": {\n        \"dtype\": \"number\",\n        \"std\": 0.12466665275943592,\n        \"min\": 0.005379491524175714,\n        \"max\": 0.37808104870904674,\n        \"num_unique_values\": 7,\n        \"samples\": [\n          0.37808104870904674,\n          0.20718133598918678,\n          0.024432452571684436\n        ],\n        \"semantic_type\": \"\",\n        \"description\": \"\"\n      }\n    }\n  ]\n}"
            }
          },
          "metadata": {},
          "execution_count": 36
        }
      ],
      "source": [
        "rf_features = pd.DataFrame({'Feature': X.columns, 'Importance': grid_search.best_estimator_.feature_importances_})\n",
        "rf_features.sort_values('Importance', ascending=False)"
      ]
    },
    {
      "cell_type": "markdown",
      "metadata": {
        "id": "hlFS-vRF6tUm"
      },
      "source": [
        "## Boosting Regressor"
      ]
    },
    {
      "cell_type": "code",
      "source": [
        "from sklearn.model_selection import train_test_split\n",
        "\n",
        "df_dropna = df.dropna()\n",
        "X = df_dropna.drop(columns=['mpg'])\n",
        "y = df_dropna['mpg']\n",
        "X_train, X_test, y_train, y_test = train_test_split(X, y, test_size=0.3, random_state=1)\n",
        "print('Train:', X_train.shape, y_train.shape)\n",
        "print('Test:',  X_test.shape, y_test.shape)"
      ],
      "metadata": {
        "colab": {
          "base_uri": "https://localhost:8080/"
        },
        "id": "7xeo9nLrh4Cr",
        "outputId": "ed33b611-8f3f-40f0-9f02-9966d882fee1"
      },
      "execution_count": null,
      "outputs": [
        {
          "output_type": "stream",
          "name": "stdout",
          "text": [
            "Train: (274, 7) (274,)\n",
            "Test: (118, 7) (118,)\n"
          ]
        }
      ]
    },
    {
      "cell_type": "code",
      "execution_count": null,
      "metadata": {
        "id": "0DiFVB2oSGxx",
        "colab": {
          "base_uri": "https://localhost:8080/"
        },
        "outputId": "1772ca4e-eb1a-4fa4-e27c-f5285edd1ee4"
      },
      "outputs": [
        {
          "output_type": "stream",
          "name": "stdout",
          "text": [
            "Best score: 3.01 with {'learning_rate': 0.7055972446574292, 'loss': 'squared_error', 'max_depth': 7, 'min_samples_split': 2, 'n_estimators': 125}\n",
            "Test score: 3.27\n"
          ]
        }
      ],
      "source": [
        "from sklearn.model_selection import RandomizedSearchCV\n",
        "from sklearn.ensemble import GradientBoostingRegressor\n",
        "from sklearn.metrics import root_mean_squared_error\n",
        "from scipy.stats import loguniform, uniform\n",
        "\n",
        "gb_model = GradientBoostingRegressor(n_iter_no_change=5)\n",
        "dist = {'n_estimators':range(1, 201), 'max_depth':range(2,10), 'min_samples_split':range(2,5), 'learning_rate':uniform(0,1), 'loss':['squared_error', 'huber', 'quantile', 'absolute_error']}\n",
        "grid_search = RandomizedSearchCV(estimator=gb_model, param_distributions=dist, cv=5, random_state=77, scoring='neg_root_mean_squared_error')\n",
        "grid_search.fit(X_train, y_train)\n",
        "test_score = root_mean_squared_error(y_test, grid_search.predict(X_test))\n",
        "print(f'Best score: {-grid_search.best_score_:.2f} with {grid_search.best_params_}')\n",
        "print(f'Test score: {test_score:.2f}')"
      ]
    },
    {
      "cell_type": "code",
      "execution_count": null,
      "metadata": {
        "colab": {
          "base_uri": "https://localhost:8080/",
          "height": 269
        },
        "id": "KrtGEgSfSgJ2",
        "outputId": "99262023-9408-4928-e550-d3a4407348a0"
      },
      "outputs": [
        {
          "output_type": "execute_result",
          "data": {
            "text/plain": [
              "        Feature  Importance\n",
              "0     cylinders    0.590361\n",
              "2    horsepower    0.130993\n",
              "5    model year    0.109519\n",
              "3        weight    0.103917\n",
              "4  acceleration    0.032903\n",
              "1  displacement    0.025099\n",
              "6        origin    0.007208"
            ],
            "text/html": [
              "\n",
              "  <div id=\"df-f0384b83-609b-4f25-b0bb-75c5dcf5cf64\" class=\"colab-df-container\">\n",
              "    <div>\n",
              "<style scoped>\n",
              "    .dataframe tbody tr th:only-of-type {\n",
              "        vertical-align: middle;\n",
              "    }\n",
              "\n",
              "    .dataframe tbody tr th {\n",
              "        vertical-align: top;\n",
              "    }\n",
              "\n",
              "    .dataframe thead th {\n",
              "        text-align: right;\n",
              "    }\n",
              "</style>\n",
              "<table border=\"1\" class=\"dataframe\">\n",
              "  <thead>\n",
              "    <tr style=\"text-align: right;\">\n",
              "      <th></th>\n",
              "      <th>Feature</th>\n",
              "      <th>Importance</th>\n",
              "    </tr>\n",
              "  </thead>\n",
              "  <tbody>\n",
              "    <tr>\n",
              "      <th>0</th>\n",
              "      <td>cylinders</td>\n",
              "      <td>0.590361</td>\n",
              "    </tr>\n",
              "    <tr>\n",
              "      <th>2</th>\n",
              "      <td>horsepower</td>\n",
              "      <td>0.130993</td>\n",
              "    </tr>\n",
              "    <tr>\n",
              "      <th>5</th>\n",
              "      <td>model year</td>\n",
              "      <td>0.109519</td>\n",
              "    </tr>\n",
              "    <tr>\n",
              "      <th>3</th>\n",
              "      <td>weight</td>\n",
              "      <td>0.103917</td>\n",
              "    </tr>\n",
              "    <tr>\n",
              "      <th>4</th>\n",
              "      <td>acceleration</td>\n",
              "      <td>0.032903</td>\n",
              "    </tr>\n",
              "    <tr>\n",
              "      <th>1</th>\n",
              "      <td>displacement</td>\n",
              "      <td>0.025099</td>\n",
              "    </tr>\n",
              "    <tr>\n",
              "      <th>6</th>\n",
              "      <td>origin</td>\n",
              "      <td>0.007208</td>\n",
              "    </tr>\n",
              "  </tbody>\n",
              "</table>\n",
              "</div>\n",
              "    <div class=\"colab-df-buttons\">\n",
              "\n",
              "  <div class=\"colab-df-container\">\n",
              "    <button class=\"colab-df-convert\" onclick=\"convertToInteractive('df-f0384b83-609b-4f25-b0bb-75c5dcf5cf64')\"\n",
              "            title=\"Convert this dataframe to an interactive table.\"\n",
              "            style=\"display:none;\">\n",
              "\n",
              "  <svg xmlns=\"http://www.w3.org/2000/svg\" height=\"24px\" viewBox=\"0 -960 960 960\">\n",
              "    <path d=\"M120-120v-720h720v720H120Zm60-500h600v-160H180v160Zm220 220h160v-160H400v160Zm0 220h160v-160H400v160ZM180-400h160v-160H180v160Zm440 0h160v-160H620v160ZM180-180h160v-160H180v160Zm440 0h160v-160H620v160Z\"/>\n",
              "  </svg>\n",
              "    </button>\n",
              "\n",
              "  <style>\n",
              "    .colab-df-container {\n",
              "      display:flex;\n",
              "      gap: 12px;\n",
              "    }\n",
              "\n",
              "    .colab-df-convert {\n",
              "      background-color: #E8F0FE;\n",
              "      border: none;\n",
              "      border-radius: 50%;\n",
              "      cursor: pointer;\n",
              "      display: none;\n",
              "      fill: #1967D2;\n",
              "      height: 32px;\n",
              "      padding: 0 0 0 0;\n",
              "      width: 32px;\n",
              "    }\n",
              "\n",
              "    .colab-df-convert:hover {\n",
              "      background-color: #E2EBFA;\n",
              "      box-shadow: 0px 1px 2px rgba(60, 64, 67, 0.3), 0px 1px 3px 1px rgba(60, 64, 67, 0.15);\n",
              "      fill: #174EA6;\n",
              "    }\n",
              "\n",
              "    .colab-df-buttons div {\n",
              "      margin-bottom: 4px;\n",
              "    }\n",
              "\n",
              "    [theme=dark] .colab-df-convert {\n",
              "      background-color: #3B4455;\n",
              "      fill: #D2E3FC;\n",
              "    }\n",
              "\n",
              "    [theme=dark] .colab-df-convert:hover {\n",
              "      background-color: #434B5C;\n",
              "      box-shadow: 0px 1px 3px 1px rgba(0, 0, 0, 0.15);\n",
              "      filter: drop-shadow(0px 1px 2px rgba(0, 0, 0, 0.3));\n",
              "      fill: #FFFFFF;\n",
              "    }\n",
              "  </style>\n",
              "\n",
              "    <script>\n",
              "      const buttonEl =\n",
              "        document.querySelector('#df-f0384b83-609b-4f25-b0bb-75c5dcf5cf64 button.colab-df-convert');\n",
              "      buttonEl.style.display =\n",
              "        google.colab.kernel.accessAllowed ? 'block' : 'none';\n",
              "\n",
              "      async function convertToInteractive(key) {\n",
              "        const element = document.querySelector('#df-f0384b83-609b-4f25-b0bb-75c5dcf5cf64');\n",
              "        const dataTable =\n",
              "          await google.colab.kernel.invokeFunction('convertToInteractive',\n",
              "                                                    [key], {});\n",
              "        if (!dataTable) return;\n",
              "\n",
              "        const docLinkHtml = 'Like what you see? Visit the ' +\n",
              "          '<a target=\"_blank\" href=https://colab.research.google.com/notebooks/data_table.ipynb>data table notebook</a>'\n",
              "          + ' to learn more about interactive tables.';\n",
              "        element.innerHTML = '';\n",
              "        dataTable['output_type'] = 'display_data';\n",
              "        await google.colab.output.renderOutput(dataTable, element);\n",
              "        const docLink = document.createElement('div');\n",
              "        docLink.innerHTML = docLinkHtml;\n",
              "        element.appendChild(docLink);\n",
              "      }\n",
              "    </script>\n",
              "  </div>\n",
              "\n",
              "\n",
              "<div id=\"df-c567e04d-8385-4cbd-91a6-f08846070611\">\n",
              "  <button class=\"colab-df-quickchart\" onclick=\"quickchart('df-c567e04d-8385-4cbd-91a6-f08846070611')\"\n",
              "            title=\"Suggest charts\"\n",
              "            style=\"display:none;\">\n",
              "\n",
              "<svg xmlns=\"http://www.w3.org/2000/svg\" height=\"24px\"viewBox=\"0 0 24 24\"\n",
              "     width=\"24px\">\n",
              "    <g>\n",
              "        <path d=\"M19 3H5c-1.1 0-2 .9-2 2v14c0 1.1.9 2 2 2h14c1.1 0 2-.9 2-2V5c0-1.1-.9-2-2-2zM9 17H7v-7h2v7zm4 0h-2V7h2v10zm4 0h-2v-4h2v4z\"/>\n",
              "    </g>\n",
              "</svg>\n",
              "  </button>\n",
              "\n",
              "<style>\n",
              "  .colab-df-quickchart {\n",
              "      --bg-color: #E8F0FE;\n",
              "      --fill-color: #1967D2;\n",
              "      --hover-bg-color: #E2EBFA;\n",
              "      --hover-fill-color: #174EA6;\n",
              "      --disabled-fill-color: #AAA;\n",
              "      --disabled-bg-color: #DDD;\n",
              "  }\n",
              "\n",
              "  [theme=dark] .colab-df-quickchart {\n",
              "      --bg-color: #3B4455;\n",
              "      --fill-color: #D2E3FC;\n",
              "      --hover-bg-color: #434B5C;\n",
              "      --hover-fill-color: #FFFFFF;\n",
              "      --disabled-bg-color: #3B4455;\n",
              "      --disabled-fill-color: #666;\n",
              "  }\n",
              "\n",
              "  .colab-df-quickchart {\n",
              "    background-color: var(--bg-color);\n",
              "    border: none;\n",
              "    border-radius: 50%;\n",
              "    cursor: pointer;\n",
              "    display: none;\n",
              "    fill: var(--fill-color);\n",
              "    height: 32px;\n",
              "    padding: 0;\n",
              "    width: 32px;\n",
              "  }\n",
              "\n",
              "  .colab-df-quickchart:hover {\n",
              "    background-color: var(--hover-bg-color);\n",
              "    box-shadow: 0 1px 2px rgba(60, 64, 67, 0.3), 0 1px 3px 1px rgba(60, 64, 67, 0.15);\n",
              "    fill: var(--button-hover-fill-color);\n",
              "  }\n",
              "\n",
              "  .colab-df-quickchart-complete:disabled,\n",
              "  .colab-df-quickchart-complete:disabled:hover {\n",
              "    background-color: var(--disabled-bg-color);\n",
              "    fill: var(--disabled-fill-color);\n",
              "    box-shadow: none;\n",
              "  }\n",
              "\n",
              "  .colab-df-spinner {\n",
              "    border: 2px solid var(--fill-color);\n",
              "    border-color: transparent;\n",
              "    border-bottom-color: var(--fill-color);\n",
              "    animation:\n",
              "      spin 1s steps(1) infinite;\n",
              "  }\n",
              "\n",
              "  @keyframes spin {\n",
              "    0% {\n",
              "      border-color: transparent;\n",
              "      border-bottom-color: var(--fill-color);\n",
              "      border-left-color: var(--fill-color);\n",
              "    }\n",
              "    20% {\n",
              "      border-color: transparent;\n",
              "      border-left-color: var(--fill-color);\n",
              "      border-top-color: var(--fill-color);\n",
              "    }\n",
              "    30% {\n",
              "      border-color: transparent;\n",
              "      border-left-color: var(--fill-color);\n",
              "      border-top-color: var(--fill-color);\n",
              "      border-right-color: var(--fill-color);\n",
              "    }\n",
              "    40% {\n",
              "      border-color: transparent;\n",
              "      border-right-color: var(--fill-color);\n",
              "      border-top-color: var(--fill-color);\n",
              "    }\n",
              "    60% {\n",
              "      border-color: transparent;\n",
              "      border-right-color: var(--fill-color);\n",
              "    }\n",
              "    80% {\n",
              "      border-color: transparent;\n",
              "      border-right-color: var(--fill-color);\n",
              "      border-bottom-color: var(--fill-color);\n",
              "    }\n",
              "    90% {\n",
              "      border-color: transparent;\n",
              "      border-bottom-color: var(--fill-color);\n",
              "    }\n",
              "  }\n",
              "</style>\n",
              "\n",
              "  <script>\n",
              "    async function quickchart(key) {\n",
              "      const quickchartButtonEl =\n",
              "        document.querySelector('#' + key + ' button');\n",
              "      quickchartButtonEl.disabled = true;  // To prevent multiple clicks.\n",
              "      quickchartButtonEl.classList.add('colab-df-spinner');\n",
              "      try {\n",
              "        const charts = await google.colab.kernel.invokeFunction(\n",
              "            'suggestCharts', [key], {});\n",
              "      } catch (error) {\n",
              "        console.error('Error during call to suggestCharts:', error);\n",
              "      }\n",
              "      quickchartButtonEl.classList.remove('colab-df-spinner');\n",
              "      quickchartButtonEl.classList.add('colab-df-quickchart-complete');\n",
              "    }\n",
              "    (() => {\n",
              "      let quickchartButtonEl =\n",
              "        document.querySelector('#df-c567e04d-8385-4cbd-91a6-f08846070611 button');\n",
              "      quickchartButtonEl.style.display =\n",
              "        google.colab.kernel.accessAllowed ? 'block' : 'none';\n",
              "    })();\n",
              "  </script>\n",
              "</div>\n",
              "\n",
              "    </div>\n",
              "  </div>\n"
            ],
            "application/vnd.google.colaboratory.intrinsic+json": {
              "type": "dataframe",
              "summary": "{\n  \"name\": \"gb_features\",\n  \"rows\": 7,\n  \"fields\": [\n    {\n      \"column\": \"Feature\",\n      \"properties\": {\n        \"dtype\": \"string\",\n        \"num_unique_values\": 7,\n        \"samples\": [\n          \"cylinders\",\n          \"horsepower\",\n          \"displacement\"\n        ],\n        \"semantic_type\": \"\",\n        \"description\": \"\"\n      }\n    },\n    {\n      \"column\": \"Importance\",\n      \"properties\": {\n        \"dtype\": \"number\",\n        \"std\": 0.2030540227293076,\n        \"min\": 0.007208409199560551,\n        \"max\": 0.590360919624507,\n        \"num_unique_values\": 7,\n        \"samples\": [\n          0.590360919624507,\n          0.13099296970245497,\n          0.025099352328418964\n        ],\n        \"semantic_type\": \"\",\n        \"description\": \"\"\n      }\n    }\n  ]\n}"
            }
          },
          "metadata": {},
          "execution_count": 41
        }
      ],
      "source": [
        "gb_features = pd.DataFrame({'Feature': X.columns, 'Importance': grid_search.best_estimator_.feature_importances_})\n",
        "gb_features.sort_values('Importance', ascending=False)"
      ]
    }
  ],
  "metadata": {
    "colab": {
      "provenance": [],
      "include_colab_link": true
    },
    "kernelspec": {
      "display_name": "Python 3",
      "language": "python",
      "name": "python3"
    },
    "language_info": {
      "codemirror_mode": {
        "name": "ipython",
        "version": 3
      },
      "file_extension": ".py",
      "mimetype": "text/x-python",
      "name": "python",
      "nbconvert_exporter": "python",
      "pygments_lexer": "ipython3",
      "version": "3.11.5"
    }
  },
  "nbformat": 4,
  "nbformat_minor": 0
}