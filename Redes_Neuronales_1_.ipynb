{
  "nbformat": 4,
  "nbformat_minor": 0,
  "metadata": {
    "colab": {
      "provenance": [],
      "authorship_tag": "ABX9TyNxl+P+h83E8XrPBXW4eIYu",
      "include_colab_link": true
    },
    "kernelspec": {
      "name": "python3",
      "display_name": "Python 3"
    },
    "language_info": {
      "name": "python"
    }
  },
  "cells": [
    {
      "cell_type": "markdown",
      "metadata": {
        "id": "view-in-github",
        "colab_type": "text"
      },
      "source": [
        "<a href=\"https://colab.research.google.com/github/valesierrai/Analisis-Supervisado-para-el-AD/blob/main/Redes_Neuronales_1_.ipynb\" target=\"_parent\"><img src=\"https://colab.research.google.com/assets/colab-badge.svg\" alt=\"Open In Colab\"/></a>"
      ]
    },
    {
      "cell_type": "markdown",
      "source": [
        "#Redes Neuronales"
      ],
      "metadata": {
        "id": "8Y5FmqrK9-0D"
      }
    },
    {
      "cell_type": "markdown",
      "source": [
        "##Vectorización"
      ],
      "metadata": {
        "id": "VIb6NQqz-By-"
      }
    },
    {
      "cell_type": "markdown",
      "source": [
        "Un elemento importante de los *frameworks* de trabajo para redes neuronales, y es la **vectorización**. Para entender este concepto, haremos un ejemplo."
      ],
      "metadata": {
        "id": "nqT39GMy-FuH"
      }
    },
    {
      "cell_type": "code",
      "source": [
        "#Por ejemplo, para el cálculo de la red entrada de un perceptrón\n",
        "\n",
        "#Definimos por ejemplo, 3 entradas\n",
        "x0, x1 , x2 = 1., 2., 3.\n",
        "bias, w1, w2 = 0.1, 0.2, 0.3\n",
        "\n",
        "x = [x0, x1, x2]\n",
        "w = [bias, w1, w2]\n",
        "\n",
        "#Si fuésemos a calcular la salida de forma tradicional, tendríamos que usar un ciclo\n",
        "\n",
        "#Inicializamos la salida con 0\n",
        "z = 0\n",
        "\n",
        "for i in range(len(x)):\n",
        "    z += x[i]*w[i]\n",
        "\n",
        "print(z)"
      ],
      "metadata": {
        "colab": {
          "base_uri": "https://localhost:8080/"
        },
        "id": "l2LNPC0U-EvU",
        "outputId": "24783d10-7687-4759-df56-853fb58cceb8"
      },
      "execution_count": null,
      "outputs": [
        {
          "output_type": "stream",
          "name": "stdout",
          "text": [
            "1.4\n"
          ]
        }
      ]
    },
    {
      "cell_type": "code",
      "source": [
        "#Por comprehension (sigue siendo una operación no vectorizada, pero se resume en una sola línea de codigo)\n",
        "\n",
        "z = sum(x_i * w_i for x_i, w_i in zip(x, w))\n",
        "print(z)\n",
        "\n",
        "#Meter un ciclo dentro de una función"
      ],
      "metadata": {
        "colab": {
          "base_uri": "https://localhost:8080/"
        },
        "id": "UxjgCCtQ_T7R",
        "outputId": "676d419e-f082-45c8-ec05-37fd2215d280"
      },
      "execution_count": null,
      "outputs": [
        {
          "output_type": "stream",
          "name": "stdout",
          "text": [
            "1.4\n"
          ]
        }
      ]
    },
    {
      "cell_type": "code",
      "source": [
        "#En forma de vectorización, se haría así (trabajo en paralelo)\n",
        "import numpy as np\n",
        "\n",
        "#Inicialmente, x y w son listas, necesitamos convertirlas en arreglos numéricos\n",
        "x_vec, w_vec= np.array(x), np.array(w)\n",
        "\n",
        "z = np.dot(x_vec, w_vec)\n",
        "print(z)"
      ],
      "metadata": {
        "colab": {
          "base_uri": "https://localhost:8080/"
        },
        "id": "AX7otPPRAIuO",
        "outputId": "b6ff39cc-2d97-4356-9046-681b0de05349"
      },
      "execution_count": null,
      "outputs": [
        {
          "output_type": "stream",
          "name": "stdout",
          "text": [
            "1.4\n"
          ]
        }
      ]
    },
    {
      "cell_type": "markdown",
      "source": [
        "*La vectorización me evita los ciclos"
      ],
      "metadata": {
        "id": "dNlcdN04BQDt"
      }
    },
    {
      "cell_type": "markdown",
      "source": [
        "##Implementamos de un perceptrón con *PyTorch*"
      ],
      "metadata": {
        "id": "HDXuW7VLBonj"
      }
    },
    {
      "cell_type": "code",
      "source": [
        "#Importamos las Librerias Necesarias\n",
        "from google.colab import drive\n",
        "drive.mount('/content/drive')\n",
        "\n",
        "import numpy as np\n",
        "import matplotlib.pyplot as plt\n",
        "import torch\n",
        "%matplotlib inline"
      ],
      "metadata": {
        "colab": {
          "base_uri": "https://localhost:8080/"
        },
        "id": "cHtd7YBpBMdl",
        "outputId": "89d041bd-49e8-4a2f-bb1f-25a2e51613dd"
      },
      "execution_count": null,
      "outputs": [
        {
          "output_type": "stream",
          "name": "stdout",
          "text": [
            "Drive already mounted at /content/drive; to attempt to forcibly remount, call drive.mount(\"/content/drive\", force_remount=True).\n"
          ]
        }
      ]
    },
    {
      "cell_type": "code",
      "source": [
        "#Cargamos la base de datos\n",
        "data = np.genfromtxt('/content/drive/MyDrive/Colab Notebooks/Aprendizaje Supervisado/perceptron_toydata.txt', delimiter = '\\t')"
      ],
      "metadata": {
        "id": "etAYaZLOCIMx"
      },
      "execution_count": null,
      "outputs": []
    },
    {
      "cell_type": "code",
      "source": [
        "#Separamos los datos de la etiqueta (la variable a predecir)\n",
        "X, y = data[:, :2], data[:, 2]\n",
        "\n",
        "#Castiamos el tipo de dato de y para quesea entero\n",
        "y = y.astype(int)"
      ],
      "metadata": {
        "id": "HBrlL1yBCfU9"
      },
      "execution_count": null,
      "outputs": []
    },
    {
      "cell_type": "code",
      "source": [
        "#Vamos a generar la partición para train y test\n",
        "\n",
        "#Primero generamos los indices aleatorios para cada conjunto\n",
        "shuffle_idx = np.arange(y.shape[0])\n",
        "shuffle_rng = np.random.RandomState(seed = 123)\n",
        "shuffle_rng.shuffle(shuffle_idx)\n",
        "\n",
        "#Reasignamos x e y\n",
        "X, y = X[shuffle_idx], y[shuffle_idx]\n",
        "\n",
        "#Generamos la separación de los conjuntos\n",
        "X_train, y_train = X[shuffle_idx[:70]], y[shuffle_idx[:70]]\n",
        "X_test, y_test = X[shuffle_idx[70:]], y[shuffle_idx[70:]]"
      ],
      "metadata": {
        "id": "bSywA6f-C_S4"
      },
      "execution_count": null,
      "outputs": []
    },
    {
      "cell_type": "code",
      "source": [
        "#Aplicamos estandarización como preprocesamiento\n",
        "from sklearn.preprocessing import StandardScaler\n",
        "\n",
        "scaler = StandardScaler()\n",
        "X_train = scaler.fit_transform(X_train)\n",
        "X_test = scaler.transform(X_test)"
      ],
      "metadata": {
        "id": "C9yaegVdECHT"
      },
      "execution_count": null,
      "outputs": []
    },
    {
      "cell_type": "code",
      "source": [
        "#Graficamos para observar la distribución de los datos\n",
        "plt.scatter(X_train[y_train == 0, 0], X_train[y_train == 0,1], label = 'Clase 0', marker = 'o')\n",
        "plt.scatter(X_train[y_train == 1, 0], X_train[y_train == 1,1], label = 'Clase 1', marker = 's')\n",
        "\n",
        "plt.title('Datos de entrenamiento')\n",
        "plt.legend()\n",
        "plt.xlabel('Carcterísticas 1')\n",
        "plt.ylabel('Caracteristicas 2')\n",
        "plt.xlim([-3,3])\n",
        "plt.ylim([-3,3])\n",
        "plt.show()"
      ],
      "metadata": {
        "colab": {
          "base_uri": "https://localhost:8080/",
          "height": 472
        },
        "id": "7BFmp5mBFC59",
        "outputId": "e2807978-1225-4007-dfd9-1a65139495ff"
      },
      "execution_count": null,
      "outputs": [
        {
          "output_type": "display_data",
          "data": {
            "text/plain": [
              "<Figure size 640x480 with 1 Axes>"
            ],
            "image/png": "[encoded data removed]"
          },
          "metadata": {}
        }
      ]
    },
    {
      "cell_type": "code",
      "source": [
        "#Graficamos ahora la distribución de los datos 'test'\n",
        "plt.scatter(X_test[y_test == 0, 0], X_test[y_test == 0,1], label = 'Clase 0', marker = 'o')\n",
        "plt.scatter(X_test[y_test == 1, 0], X_test[y_test == 1,1], label = 'Clase 1', marker = 's')\n",
        "\n",
        "plt.title('Datos de Prueba')\n",
        "plt.legend()\n",
        "plt.xlabel('Carcterísticas 1')\n",
        "plt.ylabel('Caracteristicas 2')\n",
        "plt.xlim([-3,3])\n",
        "plt.ylim([-3,3])\n",
        "plt.show()"
      ],
      "metadata": {
        "colab": {
          "base_uri": "https://localhost:8080/",
          "height": 472
        },
        "id": "rSR3TI2KGpnL",
        "outputId": "9546fb97-479a-4161-b679-a5071362cbe0"
      },
      "execution_count": null,
      "outputs": [
        {
          "output_type": "display_data",
          "data": {
            "text/plain": [
              "<Figure size 640x480 with 1 Axes>"
            ],
            "image/png": "[encoded data removed]"
          },
          "metadata": {}
        }
      ]
    }
  ]
}